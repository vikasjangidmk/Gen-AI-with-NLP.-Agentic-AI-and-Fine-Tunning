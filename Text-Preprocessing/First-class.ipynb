{
 "cells": [
  {
   "cell_type": "code",
   "execution_count": 3,
   "id": "158c21e2",
   "metadata": {},
   "outputs": [],
   "source": [
    "import nltk"
   ]
  },
  {
   "cell_type": "code",
   "execution_count": 8,
   "id": "5ca64b5c",
   "metadata": {},
   "outputs": [],
   "source": [
    "#nltk.download('all')"
   ]
  },
  {
   "cell_type": "code",
   "execution_count": 6,
   "id": "22c4f5ba",
   "metadata": {},
   "outputs": [
    {
     "name": "stdout",
     "output_type": "stream",
     "text": [
      "*** Introductory Examples for the NLTK Book ***\n",
      "Loading text1, ..., text9 and sent1, ..., sent9\n",
      "Type the name of the text or sentence to view it.\n",
      "Type: 'texts()' or 'sents()' to list the materials.\n",
      "text1: Moby Dick by Herman Melville 1851\n",
      "text2: Sense and Sensibility by Jane Austen 1811\n",
      "text3: The Book of Genesis\n",
      "text4: Inaugural Address Corpus\n",
      "text5: Chat Corpus\n",
      "text6: Monty Python and the Holy Grail\n",
      "text7: Wall Street Journal\n",
      "text8: Personals Corpus\n",
      "text9: The Man Who Was Thursday by G . K . Chesterton 1908\n"
     ]
    }
   ],
   "source": [
    "from nltk.book import *"
   ]
  },
  {
   "cell_type": "code",
   "execution_count": 7,
   "id": "7442898a",
   "metadata": {},
   "outputs": [
    {
     "name": "stdout",
     "output_type": "stream",
     "text": [
      "text1: Moby Dick by Herman Melville 1851\n",
      "text2: Sense and Sensibility by Jane Austen 1811\n",
      "text3: The Book of Genesis\n",
      "text4: Inaugural Address Corpus\n",
      "text5: Chat Corpus\n",
      "text6: Monty Python and the Holy Grail\n",
      "text7: Wall Street Journal\n",
      "text8: Personals Corpus\n",
      "text9: The Man Who Was Thursday by G . K . Chesterton 1908\n"
     ]
    }
   ],
   "source": [
    "texts()"
   ]
  },
  {
   "cell_type": "code",
   "execution_count": 9,
   "id": "7da18da5",
   "metadata": {},
   "outputs": [
    {
     "data": {
      "text/plain": [
       "<Text: Moby Dick by Herman Melville 1851>"
      ]
     },
     "execution_count": 9,
     "metadata": {},
     "output_type": "execute_result"
    }
   ],
   "source": [
    "text1"
   ]
  },
  {
   "cell_type": "code",
   "execution_count": 11,
   "id": "1d0681c4",
   "metadata": {},
   "outputs": [
    {
     "name": "stdout",
     "output_type": "stream",
     "text": [
      "Colonel Brandon; Sir John; Lady Middleton; Miss Dashwood; every thing;\n",
      "thousand pounds; dare say; Miss Steeles; said Elinor; Miss Steele;\n",
      "every body; John Dashwood; great deal; Harley Street; Berkeley Street;\n",
      "Miss Dashwoods; young man; Combe Magna; every day; next morning\n"
     ]
    }
   ],
   "source": [
    "text2.collocations()"
   ]
  },
  {
   "cell_type": "code",
   "execution_count": 12,
   "id": "0d32fd12",
   "metadata": {},
   "outputs": [],
   "source": [
    "from nltk.tokenize import word_tokenize, sent_tokenize"
   ]
  },
  {
   "cell_type": "code",
   "execution_count": 13,
   "id": "953a9151",
   "metadata": {},
   "outputs": [],
   "source": [
    "text = \"my name is vikas jangid, i use to work at turing.com. i am a software engineer. i love to play cricket and football.\""
   ]
  },
  {
   "cell_type": "code",
   "execution_count": 14,
   "id": "9171b969",
   "metadata": {},
   "outputs": [
    {
     "data": {
      "text/plain": [
       "['my',\n",
       " 'name',\n",
       " 'is',\n",
       " 'vikas',\n",
       " 'jangid',\n",
       " ',',\n",
       " 'i',\n",
       " 'use',\n",
       " 'to',\n",
       " 'work',\n",
       " 'at',\n",
       " 'turing.com',\n",
       " '.',\n",
       " 'i',\n",
       " 'am',\n",
       " 'a',\n",
       " 'software',\n",
       " 'engineer',\n",
       " '.',\n",
       " 'i',\n",
       " 'love',\n",
       " 'to',\n",
       " 'play',\n",
       " 'cricket',\n",
       " 'and',\n",
       " 'football',\n",
       " '.']"
      ]
     },
     "execution_count": 14,
     "metadata": {},
     "output_type": "execute_result"
    }
   ],
   "source": [
    "word_tokenize(text)"
   ]
  },
  {
   "cell_type": "code",
   "execution_count": 15,
   "id": "73bb27d9",
   "metadata": {},
   "outputs": [
    {
     "data": {
      "text/plain": [
       "['my name is vikas jangid, i use to work at turing.com.',\n",
       " 'i am a software engineer.',\n",
       " 'i love to play cricket and football.']"
      ]
     },
     "execution_count": 15,
     "metadata": {},
     "output_type": "execute_result"
    }
   ],
   "source": [
    "sent_tokenize(text)"
   ]
  },
  {
   "cell_type": "code",
   "execution_count": 16,
   "id": "c6ce8b42",
   "metadata": {},
   "outputs": [],
   "source": [
    "from nltk.corpus import stopwords"
   ]
  },
  {
   "cell_type": "code",
   "execution_count": 17,
   "id": "2f4aac6d",
   "metadata": {},
   "outputs": [
    {
     "data": {
      "text/plain": [
       "['i',\n",
       " 'me',\n",
       " 'my',\n",
       " 'myself',\n",
       " 'we',\n",
       " 'our',\n",
       " 'ours',\n",
       " 'ourselves',\n",
       " 'you',\n",
       " \"you're\",\n",
       " \"you've\",\n",
       " \"you'll\",\n",
       " \"you'd\",\n",
       " 'your',\n",
       " 'yours',\n",
       " 'yourself',\n",
       " 'yourselves',\n",
       " 'he',\n",
       " 'him',\n",
       " 'his',\n",
       " 'himself',\n",
       " 'she',\n",
       " \"she's\",\n",
       " 'her',\n",
       " 'hers',\n",
       " 'herself',\n",
       " 'it',\n",
       " \"it's\",\n",
       " 'its',\n",
       " 'itself',\n",
       " 'they',\n",
       " 'them',\n",
       " 'their',\n",
       " 'theirs',\n",
       " 'themselves',\n",
       " 'what',\n",
       " 'which',\n",
       " 'who',\n",
       " 'whom',\n",
       " 'this',\n",
       " 'that',\n",
       " \"that'll\",\n",
       " 'these',\n",
       " 'those',\n",
       " 'am',\n",
       " 'is',\n",
       " 'are',\n",
       " 'was',\n",
       " 'were',\n",
       " 'be',\n",
       " 'been',\n",
       " 'being',\n",
       " 'have',\n",
       " 'has',\n",
       " 'had',\n",
       " 'having',\n",
       " 'do',\n",
       " 'does',\n",
       " 'did',\n",
       " 'doing',\n",
       " 'a',\n",
       " 'an',\n",
       " 'the',\n",
       " 'and',\n",
       " 'but',\n",
       " 'if',\n",
       " 'or',\n",
       " 'because',\n",
       " 'as',\n",
       " 'until',\n",
       " 'while',\n",
       " 'of',\n",
       " 'at',\n",
       " 'by',\n",
       " 'for',\n",
       " 'with',\n",
       " 'about',\n",
       " 'against',\n",
       " 'between',\n",
       " 'into',\n",
       " 'through',\n",
       " 'during',\n",
       " 'before',\n",
       " 'after',\n",
       " 'above',\n",
       " 'below',\n",
       " 'to',\n",
       " 'from',\n",
       " 'up',\n",
       " 'down',\n",
       " 'in',\n",
       " 'out',\n",
       " 'on',\n",
       " 'off',\n",
       " 'over',\n",
       " 'under',\n",
       " 'again',\n",
       " 'further',\n",
       " 'then',\n",
       " 'once',\n",
       " 'here',\n",
       " 'there',\n",
       " 'when',\n",
       " 'where',\n",
       " 'why',\n",
       " 'how',\n",
       " 'all',\n",
       " 'any',\n",
       " 'both',\n",
       " 'each',\n",
       " 'few',\n",
       " 'more',\n",
       " 'most',\n",
       " 'other',\n",
       " 'some',\n",
       " 'such',\n",
       " 'no',\n",
       " 'nor',\n",
       " 'not',\n",
       " 'only',\n",
       " 'own',\n",
       " 'same',\n",
       " 'so',\n",
       " 'than',\n",
       " 'too',\n",
       " 'very',\n",
       " 's',\n",
       " 't',\n",
       " 'can',\n",
       " 'will',\n",
       " 'just',\n",
       " 'don',\n",
       " \"don't\",\n",
       " 'should',\n",
       " \"should've\",\n",
       " 'now',\n",
       " 'd',\n",
       " 'll',\n",
       " 'm',\n",
       " 'o',\n",
       " 're',\n",
       " 've',\n",
       " 'y',\n",
       " 'ain',\n",
       " 'aren',\n",
       " \"aren't\",\n",
       " 'couldn',\n",
       " \"couldn't\",\n",
       " 'didn',\n",
       " \"didn't\",\n",
       " 'doesn',\n",
       " \"doesn't\",\n",
       " 'hadn',\n",
       " \"hadn't\",\n",
       " 'hasn',\n",
       " \"hasn't\",\n",
       " 'haven',\n",
       " \"haven't\",\n",
       " 'isn',\n",
       " \"isn't\",\n",
       " 'ma',\n",
       " 'mightn',\n",
       " \"mightn't\",\n",
       " 'mustn',\n",
       " \"mustn't\",\n",
       " 'needn',\n",
       " \"needn't\",\n",
       " 'shan',\n",
       " \"shan't\",\n",
       " 'shouldn',\n",
       " \"shouldn't\",\n",
       " 'wasn',\n",
       " \"wasn't\",\n",
       " 'weren',\n",
       " \"weren't\",\n",
       " 'won',\n",
       " \"won't\",\n",
       " 'wouldn',\n",
       " \"wouldn't\"]"
      ]
     },
     "execution_count": 17,
     "metadata": {},
     "output_type": "execute_result"
    }
   ],
   "source": [
    "stopwords.words('english')"
   ]
  },
  {
   "cell_type": "code",
   "execution_count": 18,
   "id": "5bbad35b",
   "metadata": {},
   "outputs": [
    {
     "data": {
      "text/plain": [
       "'my name is vikas jangid, i use to work at turing.com. i am a software engineer. i love to play cricket and football.'"
      ]
     },
     "execution_count": 18,
     "metadata": {},
     "output_type": "execute_result"
    }
   ],
   "source": [
    "text"
   ]
  },
  {
   "cell_type": "code",
   "execution_count": 19,
   "id": "c70f51af",
   "metadata": {},
   "outputs": [],
   "source": [
    "text = text.lower()"
   ]
  },
  {
   "cell_type": "code",
   "execution_count": 20,
   "id": "790c5f97",
   "metadata": {},
   "outputs": [
    {
     "data": {
      "text/plain": [
       "'my name is vikas jangid, i use to work at turing.com. i am a software engineer. i love to play cricket and football.'"
      ]
     },
     "execution_count": 20,
     "metadata": {},
     "output_type": "execute_result"
    }
   ],
   "source": [
    "text"
   ]
  },
  {
   "cell_type": "code",
   "execution_count": 21,
   "id": "38675e9c",
   "metadata": {},
   "outputs": [],
   "source": [
    "stop_words = set(stopwords.words('english')) "
   ]
  },
  {
   "cell_type": "code",
   "execution_count": 25,
   "id": "e0e4c026",
   "metadata": {},
   "outputs": [
    {
     "data": {
      "text/plain": [
       "['name',\n",
       " 'vikas',\n",
       " 'jangid',\n",
       " ',',\n",
       " 'use',\n",
       " 'work',\n",
       " 'turing.com',\n",
       " '.',\n",
       " 'software',\n",
       " 'engineer',\n",
       " '.',\n",
       " 'love',\n",
       " 'play',\n",
       " 'cricket',\n",
       " 'football',\n",
       " '.']"
      ]
     },
     "execution_count": 25,
     "metadata": {},
     "output_type": "execute_result"
    }
   ],
   "source": [
    "[i for i in word_tokenize(text) if i.lower() not in stop_words]"
   ]
  },
  {
   "cell_type": "code",
   "execution_count": 26,
   "id": "51a2d3ee",
   "metadata": {},
   "outputs": [
    {
     "data": {
      "text/plain": [
       "'my name is vikas jangid, i use to work at turing.com. i am a software engineer. i love to play cricket and football.'"
      ]
     },
     "execution_count": 26,
     "metadata": {},
     "output_type": "execute_result"
    }
   ],
   "source": [
    "text"
   ]
  },
  {
   "cell_type": "code",
   "execution_count": 27,
   "id": "7256c9e9",
   "metadata": {},
   "outputs": [],
   "source": [
    "from nltk.stem import PorterStemmer\n",
    "ps = PorterStemmer()"
   ]
  },
  {
   "cell_type": "code",
   "execution_count": 30,
   "id": "352bb327",
   "metadata": {},
   "outputs": [
    {
     "data": {
      "text/plain": [
       "'my name is vikas jangid, i use to work at turing.com. i am a software engineer. i love to play cricket and football.'"
      ]
     },
     "execution_count": 30,
     "metadata": {},
     "output_type": "execute_result"
    }
   ],
   "source": [
    "text"
   ]
  },
  {
   "cell_type": "code",
   "execution_count": 28,
   "id": "0587300d",
   "metadata": {},
   "outputs": [
    {
     "data": {
      "text/plain": [
       "'my name is vikas jangid, i use to work at turing.com. i am a software engineer. i love to play cricket and football.'"
      ]
     },
     "execution_count": 28,
     "metadata": {},
     "output_type": "execute_result"
    }
   ],
   "source": [
    "ps.stem(text)"
   ]
  },
  {
   "cell_type": "code",
   "execution_count": 29,
   "id": "f5b3ee76",
   "metadata": {},
   "outputs": [
    {
     "data": {
      "text/plain": [
       "'run'"
      ]
     },
     "execution_count": 29,
     "metadata": {},
     "output_type": "execute_result"
    }
   ],
   "source": [
    "ps.stem(\"running\")"
   ]
  },
  {
   "cell_type": "code",
   "execution_count": 34,
   "id": "ce986831",
   "metadata": {},
   "outputs": [
    {
     "name": "stdout",
     "output_type": "stream",
     "text": [
      "my\n",
      "name\n",
      "is\n",
      "vika\n",
      "jangid\n",
      ",\n",
      "i\n",
      "use\n",
      "to\n",
      "work\n",
      "at\n",
      "turing.com\n",
      ".\n",
      "i\n",
      "am\n",
      "a\n",
      "softwar\n",
      "engin\n",
      ".\n",
      "i\n",
      "love\n",
      "to\n",
      "play\n",
      "cricket\n",
      "and\n",
      "footbal\n",
      ".\n"
     ]
    }
   ],
   "source": [
    "for i in word_tokenize(text):\n",
    "    print(ps.stem(i))"
   ]
  },
  {
   "cell_type": "code",
   "execution_count": 35,
   "id": "d5c92b14",
   "metadata": {},
   "outputs": [],
   "source": [
    "text = \"I am teaching in my classes\""
   ]
  },
  {
   "cell_type": "code",
   "execution_count": 36,
   "id": "cbd89536",
   "metadata": {},
   "outputs": [
    {
     "name": "stdout",
     "output_type": "stream",
     "text": [
      "i\n",
      "am\n",
      "teach\n",
      "in\n",
      "my\n",
      "class\n"
     ]
    }
   ],
   "source": [
    "for i in word_tokenize(text):\n",
    "    print(ps.stem(i))"
   ]
  },
  {
   "cell_type": "code",
   "execution_count": 37,
   "id": "53787960",
   "metadata": {},
   "outputs": [],
   "source": [
    "from nltk.stem import WordNetLemmatizer\n",
    "wnl = WordNetLemmatizer()"
   ]
  },
  {
   "cell_type": "code",
   "execution_count": 39,
   "id": "af5770f9",
   "metadata": {},
   "outputs": [
    {
     "name": "stdout",
     "output_type": "stream",
     "text": [
      "I\n",
      "am\n",
      "teaching\n",
      "in\n",
      "my\n",
      "class\n"
     ]
    }
   ],
   "source": [
    "for i in word_tokenize(text):\n",
    "    print(wnl.lemmatize(i))"
   ]
  },
  {
   "cell_type": "code",
   "execution_count": 40,
   "id": "7be14052",
   "metadata": {},
   "outputs": [
    {
     "data": {
      "text/plain": [
       "'I am teaching in my classes'"
      ]
     },
     "execution_count": 40,
     "metadata": {},
     "output_type": "execute_result"
    }
   ],
   "source": [
    "text"
   ]
  },
  {
   "cell_type": "code",
   "execution_count": 41,
   "id": "3286de33",
   "metadata": {},
   "outputs": [],
   "source": [
    "text_token = word_tokenize(text)"
   ]
  },
  {
   "cell_type": "code",
   "execution_count": 42,
   "id": "9c52ab4c",
   "metadata": {},
   "outputs": [
    {
     "data": {
      "text/plain": [
       "['I', 'am', 'teaching', 'in', 'my', 'classes']"
      ]
     },
     "execution_count": 42,
     "metadata": {},
     "output_type": "execute_result"
    }
   ],
   "source": [
    "text_token"
   ]
  },
  {
   "cell_type": "code",
   "execution_count": 43,
   "id": "391a8474",
   "metadata": {},
   "outputs": [
    {
     "name": "stdout",
     "output_type": "stream",
     "text": [
      "I\n",
      "am\n",
      "teaching\n",
      "in\n",
      "my\n",
      "class\n"
     ]
    }
   ],
   "source": [
    "for i in text_token:\n",
    "    print(wnl.lemmatize(i))"
   ]
  },
  {
   "cell_type": "code",
   "execution_count": 44,
   "id": "44630ea8",
   "metadata": {},
   "outputs": [],
   "source": [
    "from nltk.stem import LancasterStemmer\n",
    "lanc = LancasterStemmer()"
   ]
  },
  {
   "cell_type": "code",
   "execution_count": 45,
   "id": "40fe4e1a",
   "metadata": {},
   "outputs": [
    {
     "data": {
      "text/plain": [
       "'run'"
      ]
     },
     "execution_count": 45,
     "metadata": {},
     "output_type": "execute_result"
    }
   ],
   "source": [
    "lanc.stem(\"running\")"
   ]
  },
  {
   "cell_type": "code",
   "execution_count": 46,
   "id": "5222d411",
   "metadata": {},
   "outputs": [
    {
     "name": "stdout",
     "output_type": "stream",
     "text": [
      "i\n",
      "am\n",
      "teach\n",
      "in\n",
      "my\n",
      "class\n"
     ]
    }
   ],
   "source": [
    "for i in text_token:\n",
    "    print(lanc.stem(i))"
   ]
  },
  {
   "cell_type": "markdown",
   "id": "31f2c53c",
   "metadata": {},
   "source": [
    "## Pos-Tag"
   ]
  },
  {
   "cell_type": "code",
   "execution_count": 47,
   "id": "f3f4c853",
   "metadata": {},
   "outputs": [],
   "source": [
    "from nltk.tag import pos_tag"
   ]
  },
  {
   "cell_type": "code",
   "execution_count": 49,
   "id": "19c762f0",
   "metadata": {},
   "outputs": [
    {
     "data": {
      "text/plain": [
       "[('apple', 'NN'),\n",
       " ('banana', 'NN'),\n",
       " ('orange', 'NN'),\n",
       " ('grape', 'NN'),\n",
       " ('kiwi', 'NN'),\n",
       " ('!', '.'),\n",
       " ('@', 'JJ'),\n",
       " ('$', '$'),\n",
       " ('%', 'NN'),\n",
       " ('^', 'NNP'),\n",
       " ('&', 'CC'),\n",
       " ('*', 'NNP'),\n",
       " ('(', '('),\n",
       " (')', ')'),\n",
       " (',', ','),\n",
       " ('.', '.'),\n",
       " ('/', 'NN'),\n",
       " (';', ':'),\n",
       " ('<', 'CC'),\n",
       " ('>', 'VB'),\n",
       " ('?', '.'),\n",
       " ('[', 'JJ'),\n",
       " (']', 'NN'),\n",
       " ('{', '('),\n",
       " ('}', ')'),\n",
       " ('#', '#'),\n",
       " ('-', ':'),\n",
       " ('+', 'NN'),\n",
       " ('=', 'JJ'),\n",
       " ('|', 'NN'),\n",
       " (':', ':'),\n",
       " ('\"', 'NN'),\n",
       " (\"'\", \"''\")]"
      ]
     },
     "execution_count": 49,
     "metadata": {},
     "output_type": "execute_result"
    }
   ],
   "source": [
    "pos_tag([\"apple\", \"banana\", \"orange\", \"grape\", \"kiwi\",\"!\",\"@\",\"$\",\"%\",\"^\",\"&\",\"*\",\"(\",\")\",\",\",\".\",\"/\",\";\",\"<\",\">\",\"?\",\"[\",\"]\",\"{\",\"}\",\"#\",\"-\",\"+\",\"=\",\"|\",\":\",'\"',\"'\"])"
   ]
  },
  {
   "cell_type": "code",
   "execution_count": 50,
   "id": "b45da25b",
   "metadata": {},
   "outputs": [
    {
     "name": "stdout",
     "output_type": "stream",
     "text": [
      "The End\n"
     ]
    }
   ],
   "source": [
    "print(\"The End\")"
   ]
  }
 ],
 "metadata": {
  "kernelspec": {
   "display_name": "Python 3",
   "language": "python",
   "name": "python3"
  },
  "language_info": {
   "codemirror_mode": {
    "name": "ipython",
    "version": 3
   },
   "file_extension": ".py",
   "mimetype": "text/x-python",
   "name": "python",
   "nbconvert_exporter": "python",
   "pygments_lexer": "ipython3",
   "version": "3.10.0"
  }
 },
 "nbformat": 4,
 "nbformat_minor": 5
}
