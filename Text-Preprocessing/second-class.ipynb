{
 "cells": [
  {
   "cell_type": "markdown",
   "id": "12f09523",
   "metadata": {},
   "source": [
    "# **Embedding**"
   ]
  },
  {
   "cell_type": "code",
   "execution_count": 1,
   "id": "32462511",
   "metadata": {},
   "outputs": [],
   "source": [
    "import nltk "
   ]
  },
  {
   "cell_type": "code",
   "execution_count": 2,
   "id": "a3f72a8c",
   "metadata": {},
   "outputs": [],
   "source": [
    "corpus = [\"i love india\", \"i love programming\", \"i teach genai\", \"i am working with euron\"]"
   ]
  },
  {
   "cell_type": "code",
   "execution_count": 3,
   "id": "52afe480",
   "metadata": {},
   "outputs": [
    {
     "data": {
      "text/plain": [
       "'i love india i love programming i teach genai i am working with euron'"
      ]
     },
     "execution_count": 3,
     "metadata": {},
     "output_type": "execute_result"
    }
   ],
   "source": [
    "\" \".join(corpus)"
   ]
  },
  {
   "cell_type": "code",
   "execution_count": 4,
   "id": "49f1c3fd",
   "metadata": {},
   "outputs": [
    {
     "data": {
      "text/plain": [
       "['i',\n",
       " 'love',\n",
       " 'india',\n",
       " 'i',\n",
       " 'love',\n",
       " 'programming',\n",
       " 'i',\n",
       " 'teach',\n",
       " 'genai',\n",
       " 'i',\n",
       " 'am',\n",
       " 'working',\n",
       " 'with',\n",
       " 'euron']"
      ]
     },
     "execution_count": 4,
     "metadata": {},
     "output_type": "execute_result"
    }
   ],
   "source": [
    "\" \".join(corpus).split()"
   ]
  },
  {
   "cell_type": "code",
   "execution_count": 5,
   "id": "3bf5d9c3",
   "metadata": {},
   "outputs": [
    {
     "data": {
      "text/plain": [
       "{'am',\n",
       " 'euron',\n",
       " 'genai',\n",
       " 'i',\n",
       " 'india',\n",
       " 'love',\n",
       " 'programming',\n",
       " 'teach',\n",
       " 'with',\n",
       " 'working'}"
      ]
     },
     "execution_count": 5,
     "metadata": {},
     "output_type": "execute_result"
    }
   ],
   "source": [
    "set(\" \".join(corpus).split())"
   ]
  },
  {
   "cell_type": "code",
   "execution_count": 6,
   "id": "268d4314",
   "metadata": {},
   "outputs": [
    {
     "data": {
      "text/plain": [
       "['programming',\n",
       " 'working',\n",
       " 'with',\n",
       " 'am',\n",
       " 'euron',\n",
       " 'love',\n",
       " 'i',\n",
       " 'teach',\n",
       " 'genai',\n",
       " 'india']"
      ]
     },
     "execution_count": 6,
     "metadata": {},
     "output_type": "execute_result"
    }
   ],
   "source": [
    "list(set(\" \".join(corpus).split()))"
   ]
  },
  {
   "cell_type": "code",
   "execution_count": 7,
   "id": "c51bae0f",
   "metadata": {},
   "outputs": [],
   "source": [
    "unique_words = list(set(\" \".join(corpus).split()))"
   ]
  },
  {
   "cell_type": "code",
   "execution_count": 8,
   "id": "0f7d3934",
   "metadata": {},
   "outputs": [
    {
     "data": {
      "text/plain": [
       "['programming',\n",
       " 'working',\n",
       " 'with',\n",
       " 'am',\n",
       " 'euron',\n",
       " 'love',\n",
       " 'i',\n",
       " 'teach',\n",
       " 'genai',\n",
       " 'india']"
      ]
     },
     "execution_count": 8,
     "metadata": {},
     "output_type": "execute_result"
    }
   ],
   "source": [
    "unique_words"
   ]
  },
  {
   "cell_type": "code",
   "execution_count": 9,
   "id": "60bed208",
   "metadata": {},
   "outputs": [
    {
     "data": {
      "text/plain": [
       "<enumerate at 0x298c55b1cc0>"
      ]
     },
     "execution_count": 9,
     "metadata": {},
     "output_type": "execute_result"
    }
   ],
   "source": [
    "enumerate(unique_words)"
   ]
  },
  {
   "cell_type": "code",
   "execution_count": 10,
   "id": "64c82edd",
   "metadata": {},
   "outputs": [
    {
     "name": "stdout",
     "output_type": "stream",
     "text": [
      "(0, 'programming')\n",
      "(1, 'working')\n",
      "(2, 'with')\n",
      "(3, 'am')\n",
      "(4, 'euron')\n",
      "(5, 'love')\n",
      "(6, 'i')\n",
      "(7, 'teach')\n",
      "(8, 'genai')\n",
      "(9, 'india')\n"
     ]
    }
   ],
   "source": [
    "for i in enumerate(unique_words):\n",
    "    print(i)"
   ]
  },
  {
   "cell_type": "code",
   "execution_count": 11,
   "id": "37b28481",
   "metadata": {},
   "outputs": [
    {
     "name": "stdout",
     "output_type": "stream",
     "text": [
      "0 programming\n",
      "1 working\n",
      "2 with\n",
      "3 am\n",
      "4 euron\n",
      "5 love\n",
      "6 i\n",
      "7 teach\n",
      "8 genai\n",
      "9 india\n"
     ]
    }
   ],
   "source": [
    "for i, word in enumerate(unique_words):\n",
    "    print(i, word)"
   ]
  },
  {
   "cell_type": "code",
   "execution_count": 12,
   "id": "00acfe49",
   "metadata": {},
   "outputs": [
    {
     "data": {
      "text/plain": [
       "{'programming': 0,\n",
       " 'working': 1,\n",
       " 'with': 2,\n",
       " 'am': 3,\n",
       " 'euron': 4,\n",
       " 'love': 5,\n",
       " 'i': 6,\n",
       " 'teach': 7,\n",
       " 'genai': 8,\n",
       " 'india': 9}"
      ]
     },
     "execution_count": 12,
     "metadata": {},
     "output_type": "execute_result"
    }
   ],
   "source": [
    "word_to_index = {word:i for i, word in enumerate(unique_words)}\n",
    "word_to_index"
   ]
  },
  {
   "cell_type": "code",
   "execution_count": 13,
   "id": "033d00cc",
   "metadata": {},
   "outputs": [
    {
     "name": "stdout",
     "output_type": "stream",
     "text": [
      "i love india\n",
      "[0, 0, 0, 0, 0, 0, 0, 0, 0, 0]\n",
      "[0, 0, 0, 0, 0, 0, 0, 0, 0, 0]\n",
      "[0, 0, 0, 0, 0, 0, 0, 0, 0, 0]\n",
      "i love programming\n",
      "[0, 0, 0, 0, 0, 0, 0, 0, 0, 0]\n",
      "[0, 0, 0, 0, 0, 0, 0, 0, 0, 0]\n",
      "[0, 0, 0, 0, 0, 0, 0, 0, 0, 0]\n",
      "i teach genai\n",
      "[0, 0, 0, 0, 0, 0, 0, 0, 0, 0]\n",
      "[0, 0, 0, 0, 0, 0, 0, 0, 0, 0]\n",
      "[0, 0, 0, 0, 0, 0, 0, 0, 0, 0]\n",
      "i am working with euron\n",
      "[0, 0, 0, 0, 0, 0, 0, 0, 0, 0]\n",
      "[0, 0, 0, 0, 0, 0, 0, 0, 0, 0]\n",
      "[0, 0, 0, 0, 0, 0, 0, 0, 0, 0]\n",
      "[0, 0, 0, 0, 0, 0, 0, 0, 0, 0]\n",
      "[0, 0, 0, 0, 0, 0, 0, 0, 0, 0]\n"
     ]
    }
   ],
   "source": [
    "one_hot_vector = []\n",
    "\n",
    "for sentence in corpus:\n",
    "    print(sentence)\n",
    "    sentence_vector = []\n",
    "    for word in sentence.split():\n",
    "        vector = [0] * len(unique_words)\n",
    "        print(vector)"
   ]
  },
  {
   "cell_type": "code",
   "execution_count": 14,
   "id": "dabeeab7",
   "metadata": {},
   "outputs": [
    {
     "name": "stdout",
     "output_type": "stream",
     "text": [
      "i love india\n",
      "[0, 0, 0, 0, 0, 0, 0, 0, 0, 0]\n",
      "6\n",
      "1\n",
      "[0, 0, 0, 0, 0, 0, 0, 0, 0, 0]\n",
      "5\n",
      "1\n",
      "[0, 0, 0, 0, 0, 0, 0, 0, 0, 0]\n",
      "9\n",
      "1\n",
      "i love programming\n",
      "[0, 0, 0, 0, 0, 0, 0, 0, 0, 0]\n",
      "6\n",
      "1\n",
      "[0, 0, 0, 0, 0, 0, 0, 0, 0, 0]\n",
      "5\n",
      "1\n",
      "[0, 0, 0, 0, 0, 0, 0, 0, 0, 0]\n",
      "0\n",
      "1\n",
      "i teach genai\n",
      "[0, 0, 0, 0, 0, 0, 0, 0, 0, 0]\n",
      "6\n",
      "1\n",
      "[0, 0, 0, 0, 0, 0, 0, 0, 0, 0]\n",
      "7\n",
      "1\n",
      "[0, 0, 0, 0, 0, 0, 0, 0, 0, 0]\n",
      "8\n",
      "1\n",
      "i am working with euron\n",
      "[0, 0, 0, 0, 0, 0, 0, 0, 0, 0]\n",
      "6\n",
      "1\n",
      "[0, 0, 0, 0, 0, 0, 0, 0, 0, 0]\n",
      "3\n",
      "1\n",
      "[0, 0, 0, 0, 0, 0, 0, 0, 0, 0]\n",
      "1\n",
      "1\n",
      "[0, 0, 0, 0, 0, 0, 0, 0, 0, 0]\n",
      "2\n",
      "1\n",
      "[0, 0, 0, 0, 0, 0, 0, 0, 0, 0]\n",
      "4\n",
      "1\n"
     ]
    }
   ],
   "source": [
    "one_hot_vector = []\n",
    "\n",
    "for sentence in corpus:\n",
    "    print(sentence)\n",
    "    sentence_vector = []\n",
    "    for word in sentence.split():\n",
    "        vector = [0] * len(unique_words)\n",
    "        print(vector)\n",
    "        vector[word_to_index[word]] = 1\n",
    "        print(word_to_index[word])\n",
    "        print(vector[word_to_index[word]])\n",
    "        "
   ]
  },
  {
   "cell_type": "code",
   "execution_count": 15,
   "id": "067a4968",
   "metadata": {},
   "outputs": [
    {
     "name": "stdout",
     "output_type": "stream",
     "text": [
      "i love india\n",
      "[0, 0, 0, 0, 0, 0, 0, 0, 0, 0]\n",
      "6\n",
      "1\n",
      "[0, 0, 0, 0, 0, 0, 0, 0, 0, 0]\n",
      "5\n",
      "1\n",
      "[0, 0, 0, 0, 0, 0, 0, 0, 0, 0]\n",
      "9\n",
      "1\n",
      "i love programming\n",
      "[0, 0, 0, 0, 0, 0, 0, 0, 0, 0]\n",
      "6\n",
      "1\n",
      "[0, 0, 0, 0, 0, 0, 0, 0, 0, 0]\n",
      "5\n",
      "1\n",
      "[0, 0, 0, 0, 0, 0, 0, 0, 0, 0]\n",
      "0\n",
      "1\n",
      "i teach genai\n",
      "[0, 0, 0, 0, 0, 0, 0, 0, 0, 0]\n",
      "6\n",
      "1\n",
      "[0, 0, 0, 0, 0, 0, 0, 0, 0, 0]\n",
      "7\n",
      "1\n",
      "[0, 0, 0, 0, 0, 0, 0, 0, 0, 0]\n",
      "8\n",
      "1\n",
      "i am working with euron\n",
      "[0, 0, 0, 0, 0, 0, 0, 0, 0, 0]\n",
      "6\n",
      "1\n",
      "[0, 0, 0, 0, 0, 0, 0, 0, 0, 0]\n",
      "3\n",
      "1\n",
      "[0, 0, 0, 0, 0, 0, 0, 0, 0, 0]\n",
      "1\n",
      "1\n",
      "[0, 0, 0, 0, 0, 0, 0, 0, 0, 0]\n",
      "2\n",
      "1\n",
      "[0, 0, 0, 0, 0, 0, 0, 0, 0, 0]\n",
      "4\n",
      "1\n"
     ]
    }
   ],
   "source": [
    "one_hot_vector = []\n",
    "\n",
    "for sentence in corpus:\n",
    "    print(sentence)\n",
    "    sentence_vector = []\n",
    "    for word in sentence.split():\n",
    "        vector = [0] * len(unique_words)\n",
    "        print(vector)\n",
    "        vector[word_to_index[word]] = 1\n",
    "        print(word_to_index[word])\n",
    "        print(vector[word_to_index[word]])\n",
    "        sentence_vector.append(vector)\n",
    "    one_hot_vector.append(sentence_vector)"
   ]
  },
  {
   "cell_type": "code",
   "execution_count": 16,
   "id": "258b628b",
   "metadata": {},
   "outputs": [
    {
     "data": {
      "text/plain": [
       "[[[0, 0, 0, 0, 0, 0, 1, 0, 0, 0],\n",
       "  [0, 0, 0, 0, 0, 1, 0, 0, 0, 0],\n",
       "  [0, 0, 0, 0, 0, 0, 0, 0, 0, 1]],\n",
       " [[0, 0, 0, 0, 0, 0, 1, 0, 0, 0],\n",
       "  [0, 0, 0, 0, 0, 1, 0, 0, 0, 0],\n",
       "  [1, 0, 0, 0, 0, 0, 0, 0, 0, 0]],\n",
       " [[0, 0, 0, 0, 0, 0, 1, 0, 0, 0],\n",
       "  [0, 0, 0, 0, 0, 0, 0, 1, 0, 0],\n",
       "  [0, 0, 0, 0, 0, 0, 0, 0, 1, 0]],\n",
       " [[0, 0, 0, 0, 0, 0, 1, 0, 0, 0],\n",
       "  [0, 0, 0, 1, 0, 0, 0, 0, 0, 0],\n",
       "  [0, 1, 0, 0, 0, 0, 0, 0, 0, 0],\n",
       "  [0, 0, 1, 0, 0, 0, 0, 0, 0, 0],\n",
       "  [0, 0, 0, 0, 1, 0, 0, 0, 0, 0]]]"
      ]
     },
     "execution_count": 16,
     "metadata": {},
     "output_type": "execute_result"
    }
   ],
   "source": [
    "one_hot_vector"
   ]
  },
  {
   "cell_type": "markdown",
   "id": "44cc7269",
   "metadata": {},
   "source": [
    "## **Bag of Words**"
   ]
  },
  {
   "cell_type": "code",
   "execution_count": 17,
   "id": "2b35c701",
   "metadata": {},
   "outputs": [],
   "source": [
    "from sklearn.feature_extraction.text import CountVectorizer"
   ]
  },
  {
   "cell_type": "code",
   "execution_count": 18,
   "id": "de8d4d2c",
   "metadata": {},
   "outputs": [],
   "source": [
    "vectorizer = CountVectorizer(stop_words=None,lowercase=False,vocabulary=unique_words)"
   ]
  },
  {
   "cell_type": "code",
   "execution_count": 19,
   "id": "ca37ce63",
   "metadata": {},
   "outputs": [
    {
     "data": {
      "text/plain": [
       "['i love india',\n",
       " 'i love programming',\n",
       " 'i teach genai',\n",
       " 'i am working with euron']"
      ]
     },
     "execution_count": 19,
     "metadata": {},
     "output_type": "execute_result"
    }
   ],
   "source": [
    "corpus"
   ]
  },
  {
   "cell_type": "code",
   "execution_count": 20,
   "id": "49012c08",
   "metadata": {},
   "outputs": [],
   "source": [
    "X = vectorizer.fit_transform(corpus)"
   ]
  },
  {
   "cell_type": "code",
   "execution_count": 21,
   "id": "87a79f18",
   "metadata": {},
   "outputs": [
    {
     "data": {
      "text/plain": [
       "array([[0, 0, 0, 0, 0, 1, 0, 0, 0, 1],\n",
       "       [1, 0, 0, 0, 0, 1, 0, 0, 0, 0],\n",
       "       [0, 0, 0, 0, 0, 0, 0, 1, 1, 0],\n",
       "       [0, 1, 1, 1, 1, 0, 0, 0, 0, 0]])"
      ]
     },
     "execution_count": 21,
     "metadata": {},
     "output_type": "execute_result"
    }
   ],
   "source": [
    "X.toarray()"
   ]
  },
  {
   "cell_type": "code",
   "execution_count": 22,
   "id": "1c2ff293",
   "metadata": {},
   "outputs": [
    {
     "data": {
      "text/plain": [
       "array(['programming', 'working', 'with', 'am', 'euron', 'love', 'i',\n",
       "       'teach', 'genai', 'india'], dtype=object)"
      ]
     },
     "execution_count": 22,
     "metadata": {},
     "output_type": "execute_result"
    }
   ],
   "source": [
    "vectorizer.get_feature_names_out()"
   ]
  },
  {
   "cell_type": "markdown",
   "id": "964aead8",
   "metadata": {},
   "source": [
    "## **TF-IDF (Tern Frequency - Inverse document frequency)**"
   ]
  },
  {
   "cell_type": "markdown",
   "id": "f20a3ded",
   "metadata": {},
   "source": [
    "TF-IDF (Term Frequency–Inverse Document Frequency)\n",
    "\n",
    "Definition:\n",
    "TF-IDF is a statistical measure used to evaluate how important a word is to a document in a collection or corpus. It increases proportionally to the number of times a word appears in the document but is offset by the frequency of the word in the corpus.\n",
    "\n",
    "Formula:\n",
    "TF-IDF = TF(t) * IDF(t)\n",
    "\n",
    "Where:\n",
    "- TF(t) = Term Frequency of term t = (Number of times term t appears in a document) / (Total terms in the document)\n",
    "- IDF(t) = Inverse Document Frequency = log_e(Total number of documents / Number of documents with term t in it)\n",
    "\n",
    "Purpose:\n",
    "- Highlight important words in documents.\n",
    "- Common in information retrieval and text mining.\n",
    "- Used in search engines, document clustering, keyword extraction, etc.\n",
    "\n",
    "Advantages:\n",
    "- Simple and fast.\n",
    "- Emphasizes rare but important terms.\n",
    "- Effective for feature extraction in NLP.\n",
    "\n",
    "Limitations:\n",
    "- Doesn't capture semantics.\n",
    "- Ignores word order and context.\n",
    "- Affected by document length.\n",
    "\n",
    "Applications:\n",
    "- Text classification\n",
    "- Search engines\n",
    "- Document similarity\n",
    "- Keyword extraction\n"
   ]
  },
  {
   "cell_type": "code",
   "execution_count": 23,
   "id": "165d9ec7",
   "metadata": {},
   "outputs": [
    {
     "data": {
      "text/plain": [
       "['i love india',\n",
       " 'i love programming',\n",
       " 'i teach genai',\n",
       " 'i am working with euron']"
      ]
     },
     "execution_count": 23,
     "metadata": {},
     "output_type": "execute_result"
    }
   ],
   "source": [
    "corpus"
   ]
  },
  {
   "cell_type": "code",
   "execution_count": 24,
   "id": "4f4eebbb",
   "metadata": {},
   "outputs": [],
   "source": [
    "from sklearn.feature_extraction.text import TfidfVectorizer"
   ]
  },
  {
   "cell_type": "code",
   "execution_count": 28,
   "id": "ac2133b0",
   "metadata": {},
   "outputs": [],
   "source": [
    "vect_tf_idf = TfidfVectorizer(stop_words=None,lowercase=False,vocabulary=unique_words)"
   ]
  },
  {
   "cell_type": "code",
   "execution_count": 29,
   "id": "58a06ed9",
   "metadata": {},
   "outputs": [
    {
     "data": {
      "text/plain": [
       "array([[0.        , 0.        , 0.        , 0.        , 0.        ,\n",
       "        0.6191303 , 0.        , 0.        , 0.        , 0.78528828],\n",
       "       [0.78528828, 0.        , 0.        , 0.        , 0.        ,\n",
       "        0.6191303 , 0.        , 0.        , 0.        , 0.        ],\n",
       "       [0.        , 0.        , 0.        , 0.        , 0.        ,\n",
       "        0.        , 0.        , 0.70710678, 0.70710678, 0.        ],\n",
       "       [0.        , 0.5       , 0.5       , 0.5       , 0.5       ,\n",
       "        0.        , 0.        , 0.        , 0.        , 0.        ]])"
      ]
     },
     "execution_count": 29,
     "metadata": {},
     "output_type": "execute_result"
    }
   ],
   "source": [
    "X = vect_tf_idf.fit_transform(corpus)\n",
    "X.toarray()"
   ]
  },
  {
   "cell_type": "code",
   "execution_count": 30,
   "id": "b67764e0",
   "metadata": {},
   "outputs": [
    {
     "data": {
      "text/plain": [
       "array(['programming', 'working', 'with', 'am', 'euron', 'love', 'i',\n",
       "       'teach', 'genai', 'india'], dtype=object)"
      ]
     },
     "execution_count": 30,
     "metadata": {},
     "output_type": "execute_result"
    }
   ],
   "source": [
    "vect_tf_idf.get_feature_names_out()"
   ]
  },
  {
   "cell_type": "code",
   "execution_count": 31,
   "id": "6bd6951e",
   "metadata": {},
   "outputs": [
    {
     "name": "stdout",
     "output_type": "stream",
     "text": [
      "The End\n"
     ]
    }
   ],
   "source": [
    "print(\"The End\")"
   ]
  }
 ],
 "metadata": {
  "kernelspec": {
   "display_name": "Python 3",
   "language": "python",
   "name": "python3"
  },
  "language_info": {
   "codemirror_mode": {
    "name": "ipython",
    "version": 3
   },
   "file_extension": ".py",
   "mimetype": "text/x-python",
   "name": "python",
   "nbconvert_exporter": "python",
   "pygments_lexer": "ipython3",
   "version": "3.10.0"
  }
 },
 "nbformat": 4,
 "nbformat_minor": 5
}
