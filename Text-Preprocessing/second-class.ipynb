{
 "cells": [
  {
   "cell_type": "markdown",
   "id": "12f09523",
   "metadata": {},
   "source": [
    "# **Embedding**"
   ]
  },
  {
   "cell_type": "code",
   "execution_count": 1,
   "id": "32462511",
   "metadata": {},
   "outputs": [],
   "source": [
    "import nltk "
   ]
  },
  {
   "cell_type": "code",
   "execution_count": 2,
   "id": "a3f72a8c",
   "metadata": {},
   "outputs": [],
   "source": [
    "corpus = [\"i love india\", \"i love programming\", \"i teach genai\", \"i am working with euron\"]"
   ]
  },
  {
   "cell_type": "code",
   "execution_count": 3,
   "id": "52afe480",
   "metadata": {},
   "outputs": [
    {
     "data": {
      "text/plain": [
       "'i love india i love programming i teach genai i am working with euron'"
      ]
     },
     "execution_count": 3,
     "metadata": {},
     "output_type": "execute_result"
    }
   ],
   "source": [
    "\" \".join(corpus)"
   ]
  },
  {
   "cell_type": "code",
   "execution_count": 4,
   "id": "49f1c3fd",
   "metadata": {},
   "outputs": [
    {
     "data": {
      "text/plain": [
       "['i',\n",
       " 'love',\n",
       " 'india',\n",
       " 'i',\n",
       " 'love',\n",
       " 'programming',\n",
       " 'i',\n",
       " 'teach',\n",
       " 'genai',\n",
       " 'i',\n",
       " 'am',\n",
       " 'working',\n",
       " 'with',\n",
       " 'euron']"
      ]
     },
     "execution_count": 4,
     "metadata": {},
     "output_type": "execute_result"
    }
   ],
   "source": [
    "\" \".join(corpus).split()"
   ]
  },
  {
   "cell_type": "code",
   "execution_count": 5,
   "id": "3bf5d9c3",
   "metadata": {},
   "outputs": [
    {
     "data": {
      "text/plain": [
       "{'am',\n",
       " 'euron',\n",
       " 'genai',\n",
       " 'i',\n",
       " 'india',\n",
       " 'love',\n",
       " 'programming',\n",
       " 'teach',\n",
       " 'with',\n",
       " 'working'}"
      ]
     },
     "execution_count": 5,
     "metadata": {},
     "output_type": "execute_result"
    }
   ],
   "source": [
    "set(\" \".join(corpus).split())"
   ]
  },
  {
   "cell_type": "code",
   "execution_count": 6,
   "id": "268d4314",
   "metadata": {},
   "outputs": [
    {
     "data": {
      "text/plain": [
       "['india',\n",
       " 'with',\n",
       " 'programming',\n",
       " 'genai',\n",
       " 'am',\n",
       " 'working',\n",
       " 'teach',\n",
       " 'euron',\n",
       " 'love',\n",
       " 'i']"
      ]
     },
     "execution_count": 6,
     "metadata": {},
     "output_type": "execute_result"
    }
   ],
   "source": [
    "list(set(\" \".join(corpus).split()))"
   ]
  },
  {
   "cell_type": "code",
   "execution_count": 7,
   "id": "c51bae0f",
   "metadata": {},
   "outputs": [],
   "source": [
    "unique_words = list(set(\" \".join(corpus).split()))"
   ]
  },
  {
   "cell_type": "code",
   "execution_count": 8,
   "id": "0f7d3934",
   "metadata": {},
   "outputs": [
    {
     "data": {
      "text/plain": [
       "['india',\n",
       " 'with',\n",
       " 'programming',\n",
       " 'genai',\n",
       " 'am',\n",
       " 'working',\n",
       " 'teach',\n",
       " 'euron',\n",
       " 'love',\n",
       " 'i']"
      ]
     },
     "execution_count": 8,
     "metadata": {},
     "output_type": "execute_result"
    }
   ],
   "source": [
    "unique_words"
   ]
  },
  {
   "cell_type": "code",
   "execution_count": 9,
   "id": "60bed208",
   "metadata": {},
   "outputs": [
    {
     "data": {
      "text/plain": [
       "<enumerate at 0x1fb7e5888c0>"
      ]
     },
     "execution_count": 9,
     "metadata": {},
     "output_type": "execute_result"
    }
   ],
   "source": [
    "enumerate(unique_words)"
   ]
  },
  {
   "cell_type": "code",
   "execution_count": 10,
   "id": "64c82edd",
   "metadata": {},
   "outputs": [
    {
     "name": "stdout",
     "output_type": "stream",
     "text": [
      "(0, 'india')\n",
      "(1, 'with')\n",
      "(2, 'programming')\n",
      "(3, 'genai')\n",
      "(4, 'am')\n",
      "(5, 'working')\n",
      "(6, 'teach')\n",
      "(7, 'euron')\n",
      "(8, 'love')\n",
      "(9, 'i')\n"
     ]
    }
   ],
   "source": [
    "for i in enumerate(unique_words):\n",
    "    print(i)"
   ]
  },
  {
   "cell_type": "code",
   "execution_count": 11,
   "id": "37b28481",
   "metadata": {},
   "outputs": [
    {
     "name": "stdout",
     "output_type": "stream",
     "text": [
      "0 india\n",
      "1 with\n",
      "2 programming\n",
      "3 genai\n",
      "4 am\n",
      "5 working\n",
      "6 teach\n",
      "7 euron\n",
      "8 love\n",
      "9 i\n"
     ]
    }
   ],
   "source": [
    "for i, word in enumerate(unique_words):\n",
    "    print(i, word)"
   ]
  },
  {
   "cell_type": "code",
   "execution_count": 12,
   "id": "00acfe49",
   "metadata": {},
   "outputs": [
    {
     "data": {
      "text/plain": [
       "{'india': 0,\n",
       " 'with': 1,\n",
       " 'programming': 2,\n",
       " 'genai': 3,\n",
       " 'am': 4,\n",
       " 'working': 5,\n",
       " 'teach': 6,\n",
       " 'euron': 7,\n",
       " 'love': 8,\n",
       " 'i': 9}"
      ]
     },
     "execution_count": 12,
     "metadata": {},
     "output_type": "execute_result"
    }
   ],
   "source": [
    "word_to_index = {word:i for i, word in enumerate(unique_words)}\n",
    "word_to_index"
   ]
  },
  {
   "cell_type": "code",
   "execution_count": 14,
   "id": "033d00cc",
   "metadata": {},
   "outputs": [
    {
     "name": "stdout",
     "output_type": "stream",
     "text": [
      "i love india\n",
      "[0, 0, 0, 0, 0, 0, 0, 0, 0, 0]\n",
      "[0, 0, 0, 0, 0, 0, 0, 0, 0, 0]\n",
      "[0, 0, 0, 0, 0, 0, 0, 0, 0, 0]\n",
      "i love programming\n",
      "[0, 0, 0, 0, 0, 0, 0, 0, 0, 0]\n",
      "[0, 0, 0, 0, 0, 0, 0, 0, 0, 0]\n",
      "[0, 0, 0, 0, 0, 0, 0, 0, 0, 0]\n",
      "i teach genai\n",
      "[0, 0, 0, 0, 0, 0, 0, 0, 0, 0]\n",
      "[0, 0, 0, 0, 0, 0, 0, 0, 0, 0]\n",
      "[0, 0, 0, 0, 0, 0, 0, 0, 0, 0]\n",
      "i am working with euron\n",
      "[0, 0, 0, 0, 0, 0, 0, 0, 0, 0]\n",
      "[0, 0, 0, 0, 0, 0, 0, 0, 0, 0]\n",
      "[0, 0, 0, 0, 0, 0, 0, 0, 0, 0]\n",
      "[0, 0, 0, 0, 0, 0, 0, 0, 0, 0]\n",
      "[0, 0, 0, 0, 0, 0, 0, 0, 0, 0]\n"
     ]
    }
   ],
   "source": [
    "one_hot_vector = []\n",
    "\n",
    "for sentence in corpus:\n",
    "    print(sentence)\n",
    "    sentence_vector = []\n",
    "    for word in sentence.split():\n",
    "        vector = [0] * len(unique_words)\n",
    "        print(vector)"
   ]
  },
  {
   "cell_type": "code",
   "execution_count": 15,
   "id": "dabeeab7",
   "metadata": {},
   "outputs": [
    {
     "name": "stdout",
     "output_type": "stream",
     "text": [
      "i love india\n",
      "[0, 0, 0, 0, 0, 0, 0, 0, 0, 0]\n",
      "9\n",
      "1\n",
      "[0, 0, 0, 0, 0, 0, 0, 0, 0, 0]\n",
      "8\n",
      "1\n",
      "[0, 0, 0, 0, 0, 0, 0, 0, 0, 0]\n",
      "0\n",
      "1\n",
      "i love programming\n",
      "[0, 0, 0, 0, 0, 0, 0, 0, 0, 0]\n",
      "9\n",
      "1\n",
      "[0, 0, 0, 0, 0, 0, 0, 0, 0, 0]\n",
      "8\n",
      "1\n",
      "[0, 0, 0, 0, 0, 0, 0, 0, 0, 0]\n",
      "2\n",
      "1\n",
      "i teach genai\n",
      "[0, 0, 0, 0, 0, 0, 0, 0, 0, 0]\n",
      "9\n",
      "1\n",
      "[0, 0, 0, 0, 0, 0, 0, 0, 0, 0]\n",
      "6\n",
      "1\n",
      "[0, 0, 0, 0, 0, 0, 0, 0, 0, 0]\n",
      "3\n",
      "1\n",
      "i am working with euron\n",
      "[0, 0, 0, 0, 0, 0, 0, 0, 0, 0]\n",
      "9\n",
      "1\n",
      "[0, 0, 0, 0, 0, 0, 0, 0, 0, 0]\n",
      "4\n",
      "1\n",
      "[0, 0, 0, 0, 0, 0, 0, 0, 0, 0]\n",
      "5\n",
      "1\n",
      "[0, 0, 0, 0, 0, 0, 0, 0, 0, 0]\n",
      "1\n",
      "1\n",
      "[0, 0, 0, 0, 0, 0, 0, 0, 0, 0]\n",
      "7\n",
      "1\n"
     ]
    }
   ],
   "source": [
    "one_hot_vector = []\n",
    "\n",
    "for sentence in corpus:\n",
    "    print(sentence)\n",
    "    sentence_vector = []\n",
    "    for word in sentence.split():\n",
    "        vector = [0] * len(unique_words)\n",
    "        print(vector)\n",
    "        vector[word_to_index[word]] = 1\n",
    "        print(word_to_index[word])\n",
    "        print(vector[word_to_index[word]])\n",
    "        "
   ]
  },
  {
   "cell_type": "code",
   "execution_count": 16,
   "id": "067a4968",
   "metadata": {},
   "outputs": [
    {
     "name": "stdout",
     "output_type": "stream",
     "text": [
      "i love india\n",
      "[0, 0, 0, 0, 0, 0, 0, 0, 0, 0]\n",
      "9\n",
      "1\n",
      "[0, 0, 0, 0, 0, 0, 0, 0, 0, 0]\n",
      "8\n",
      "1\n",
      "[0, 0, 0, 0, 0, 0, 0, 0, 0, 0]\n",
      "0\n",
      "1\n",
      "i love programming\n",
      "[0, 0, 0, 0, 0, 0, 0, 0, 0, 0]\n",
      "9\n",
      "1\n",
      "[0, 0, 0, 0, 0, 0, 0, 0, 0, 0]\n",
      "8\n",
      "1\n",
      "[0, 0, 0, 0, 0, 0, 0, 0, 0, 0]\n",
      "2\n",
      "1\n",
      "i teach genai\n",
      "[0, 0, 0, 0, 0, 0, 0, 0, 0, 0]\n",
      "9\n",
      "1\n",
      "[0, 0, 0, 0, 0, 0, 0, 0, 0, 0]\n",
      "6\n",
      "1\n",
      "[0, 0, 0, 0, 0, 0, 0, 0, 0, 0]\n",
      "3\n",
      "1\n",
      "i am working with euron\n",
      "[0, 0, 0, 0, 0, 0, 0, 0, 0, 0]\n",
      "9\n",
      "1\n",
      "[0, 0, 0, 0, 0, 0, 0, 0, 0, 0]\n",
      "4\n",
      "1\n",
      "[0, 0, 0, 0, 0, 0, 0, 0, 0, 0]\n",
      "5\n",
      "1\n",
      "[0, 0, 0, 0, 0, 0, 0, 0, 0, 0]\n",
      "1\n",
      "1\n",
      "[0, 0, 0, 0, 0, 0, 0, 0, 0, 0]\n",
      "7\n",
      "1\n"
     ]
    }
   ],
   "source": [
    "one_hot_vector = []\n",
    "\n",
    "for sentence in corpus:\n",
    "    print(sentence)\n",
    "    sentence_vector = []\n",
    "    for word in sentence.split():\n",
    "        vector = [0] * len(unique_words)\n",
    "        print(vector)\n",
    "        vector[word_to_index[word]] = 1\n",
    "        print(word_to_index[word])\n",
    "        print(vector[word_to_index[word]])\n",
    "        sentence_vector.append(vector)\n",
    "    one_hot_vector.append(sentence_vector)"
   ]
  },
  {
   "cell_type": "code",
   "execution_count": 17,
   "id": "258b628b",
   "metadata": {},
   "outputs": [
    {
     "data": {
      "text/plain": [
       "[[[0, 0, 0, 0, 0, 0, 0, 0, 0, 1],\n",
       "  [0, 0, 0, 0, 0, 0, 0, 0, 1, 0],\n",
       "  [1, 0, 0, 0, 0, 0, 0, 0, 0, 0]],\n",
       " [[0, 0, 0, 0, 0, 0, 0, 0, 0, 1],\n",
       "  [0, 0, 0, 0, 0, 0, 0, 0, 1, 0],\n",
       "  [0, 0, 1, 0, 0, 0, 0, 0, 0, 0]],\n",
       " [[0, 0, 0, 0, 0, 0, 0, 0, 0, 1],\n",
       "  [0, 0, 0, 0, 0, 0, 1, 0, 0, 0],\n",
       "  [0, 0, 0, 1, 0, 0, 0, 0, 0, 0]],\n",
       " [[0, 0, 0, 0, 0, 0, 0, 0, 0, 1],\n",
       "  [0, 0, 0, 0, 1, 0, 0, 0, 0, 0],\n",
       "  [0, 0, 0, 0, 0, 1, 0, 0, 0, 0],\n",
       "  [0, 1, 0, 0, 0, 0, 0, 0, 0, 0],\n",
       "  [0, 0, 0, 0, 0, 0, 0, 1, 0, 0]]]"
      ]
     },
     "execution_count": 17,
     "metadata": {},
     "output_type": "execute_result"
    }
   ],
   "source": [
    "one_hot_vector"
   ]
  },
  {
   "cell_type": "code",
   "execution_count": null,
   "id": "2b35c701",
   "metadata": {},
   "outputs": [],
   "source": []
  }
 ],
 "metadata": {
  "kernelspec": {
   "display_name": "Python 3",
   "language": "python",
   "name": "python3"
  },
  "language_info": {
   "codemirror_mode": {
    "name": "ipython",
    "version": 3
   },
   "file_extension": ".py",
   "mimetype": "text/x-python",
   "name": "python",
   "nbconvert_exporter": "python",
   "pygments_lexer": "ipython3",
   "version": "3.10.0"
  }
 },
 "nbformat": 4,
 "nbformat_minor": 5
}
