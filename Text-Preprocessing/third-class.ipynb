{
 "cells": [
  {
   "cell_type": "code",
   "execution_count": 31,
   "id": "74ecee27",
   "metadata": {},
   "outputs": [],
   "source": [
    "import nltk\n",
    "import gensim\n",
    "import string\n",
    "import numpy as np\n",
    "import pandas as pd\n",
    "import matplotlib.pyplot as plt\n",
    "from gensim.models import Word2Vec\n",
    "from nltk.corpus import stopwords\n",
    "from nltk.tokenize import word_tokenize\n",
    "import re"
   ]
  },
  {
   "cell_type": "code",
   "execution_count": 32,
   "id": "25e8722a",
   "metadata": {},
   "outputs": [],
   "source": [
    "corpus = [\n",
    "    \"Next word prediction is the task of forecasting the most likely word that follows a given sequence of text.\",\n",
    "    \"It uses Natural Language Processing (NLP) to understand and process human language.\",\n",
    "    \"Early approaches relied on n-gram models, which had limitations like short context and data sparsity.\",\n",
    "    \"Recurrent Neural Networks (RNNs) and Long Short-Term Memory (LSTM) networks improved sequence modeling by learning longer dependencies.\",\n",
    "    \"Transformer-based models like BERT and GPT revolutionized predictions with self-attention mechanisms and full-context awareness.\",\n",
    "    \"These models are trained on massive corpora to learn grammar, semantics, and contextual patterns.\",\n",
    "    \"Next word prediction is widely used in smart keyboards, chatbots, virtual assistants, email composition, and search engines.\",\n",
    "    \"It enhances user experience by making communication faster and more intuitive.\",\n",
    "    \"Advancements in deep learning continue to improve accuracy and contextual relevance in predictions.\",\n",
    "    \"The future includes more personalized and multimodal systems combining text, voice, and visual inputs.\"\n",
    "]"
   ]
  },
  {
   "cell_type": "code",
   "execution_count": 33,
   "id": "f595f9e6",
   "metadata": {},
   "outputs": [
    {
     "data": {
      "text/plain": [
       "'my name is vikas jangid 123 456 7890  .'"
      ]
     },
     "execution_count": 33,
     "metadata": {},
     "output_type": "execute_result"
    }
   ],
   "source": [
    "s = \"My Name is Vikas jangid 123 456 7890  .\"\n",
    "s.lower()"
   ]
  },
  {
   "cell_type": "code",
   "execution_count": 34,
   "id": "171b0788",
   "metadata": {},
   "outputs": [
    {
     "data": {
      "text/plain": [
       "'My Name is Vikas jangid     .'"
      ]
     },
     "execution_count": 34,
     "metadata": {},
     "output_type": "execute_result"
    }
   ],
   "source": [
    "s = re.sub(r'\\d+','',s)  # Remove digits\n",
    "s"
   ]
  },
  {
   "cell_type": "code",
   "execution_count": 35,
   "id": "ecc1619c",
   "metadata": {},
   "outputs": [
    {
     "data": {
      "text/plain": [
       "'!\"#$%&\\'()*+,-./:;<=>?@[\\\\]^_`{|}~'"
      ]
     },
     "execution_count": 35,
     "metadata": {},
     "output_type": "execute_result"
    }
   ],
   "source": [
    "string.punctuation  # Remove punctuation"
   ]
  },
  {
   "cell_type": "code",
   "execution_count": 36,
   "id": "56fd8977",
   "metadata": {},
   "outputs": [
    {
     "data": {
      "text/plain": [
       "'My Name is Vikas jangid     '"
      ]
     },
     "execution_count": 36,
     "metadata": {},
     "output_type": "execute_result"
    }
   ],
   "source": [
    "s.translate(str.maketrans(\"\",\"\", string.punctuation))"
   ]
  },
  {
   "cell_type": "code",
   "execution_count": 37,
   "id": "2084b5ad",
   "metadata": {},
   "outputs": [],
   "source": [
    "s = \"My Name is Vikas jangid 123 456 7890  .\""
   ]
  },
  {
   "cell_type": "code",
   "execution_count": 38,
   "id": "e5243850",
   "metadata": {},
   "outputs": [
    {
     "data": {
      "text/plain": [
       "['My', 'Name', 'is', 'Vikas', 'jangid', '123', '456', '7890', '.']"
      ]
     },
     "execution_count": 38,
     "metadata": {},
     "output_type": "execute_result"
    }
   ],
   "source": [
    "word_tokenize(s)  # Tokenize the string"
   ]
  },
  {
   "cell_type": "code",
   "execution_count": 39,
   "id": "1d56968f",
   "metadata": {},
   "outputs": [],
   "source": [
    "s1 = ['My', 'Name', 'is', 'Vikas', 'jangid', '123', '456', '7890', '.']"
   ]
  },
  {
   "cell_type": "code",
   "execution_count": 40,
   "id": "e2a90f7c",
   "metadata": {},
   "outputs": [
    {
     "data": {
      "text/plain": [
       "['My', 'Name', 'Vikas', 'jangid', '123', '456', '7890', '.']"
      ]
     },
     "execution_count": 40,
     "metadata": {},
     "output_type": "execute_result"
    }
   ],
   "source": [
    "[i for i in s1 if i not in stopwords.words('english')]"
   ]
  },
  {
   "cell_type": "code",
   "execution_count": 41,
   "id": "9f188cb4",
   "metadata": {},
   "outputs": [],
   "source": [
    "def word_preprocessing(text):\n",
    "    text = text.lower()  # Convert to lowercase\n",
    "    text = re.sub(r'\\d+', '', text)  # Remove digits\n",
    "    text = text.translate(str.maketrans(\"\", \"\", string.punctuation))  # Remove punctuation\n",
    "    tokens = word_tokenize(text)  # Tokenize the string\n",
    "    tokens = [i for i in tokens if i not in stopwords.words('english')]  # Remove stopwords\n",
    "    return tokens"
   ]
  },
  {
   "cell_type": "code",
   "execution_count": 42,
   "id": "ef7ca992",
   "metadata": {},
   "outputs": [
    {
     "data": {
      "text/plain": [
       "['Next word prediction is the task of forecasting the most likely word that follows a given sequence of text.',\n",
       " 'It uses Natural Language Processing (NLP) to understand and process human language.',\n",
       " 'Early approaches relied on n-gram models, which had limitations like short context and data sparsity.',\n",
       " 'Recurrent Neural Networks (RNNs) and Long Short-Term Memory (LSTM) networks improved sequence modeling by learning longer dependencies.',\n",
       " 'Transformer-based models like BERT and GPT revolutionized predictions with self-attention mechanisms and full-context awareness.',\n",
       " 'These models are trained on massive corpora to learn grammar, semantics, and contextual patterns.',\n",
       " 'Next word prediction is widely used in smart keyboards, chatbots, virtual assistants, email composition, and search engines.',\n",
       " 'It enhances user experience by making communication faster and more intuitive.',\n",
       " 'Advancements in deep learning continue to improve accuracy and contextual relevance in predictions.',\n",
       " 'The future includes more personalized and multimodal systems combining text, voice, and visual inputs.']"
      ]
     },
     "execution_count": 42,
     "metadata": {},
     "output_type": "execute_result"
    }
   ],
   "source": [
    "corpus"
   ]
  },
  {
   "cell_type": "code",
   "execution_count": 43,
   "id": "385dc598",
   "metadata": {},
   "outputs": [],
   "source": [
    "processed_corpus = [word_preprocessing(sentence) for sentence in corpus]"
   ]
  },
  {
   "cell_type": "code",
   "execution_count": 44,
   "id": "cbf2e466",
   "metadata": {},
   "outputs": [
    {
     "data": {
      "text/plain": [
       "[['next',\n",
       "  'word',\n",
       "  'prediction',\n",
       "  'task',\n",
       "  'forecasting',\n",
       "  'likely',\n",
       "  'word',\n",
       "  'follows',\n",
       "  'given',\n",
       "  'sequence',\n",
       "  'text'],\n",
       " ['uses',\n",
       "  'natural',\n",
       "  'language',\n",
       "  'processing',\n",
       "  'nlp',\n",
       "  'understand',\n",
       "  'process',\n",
       "  'human',\n",
       "  'language'],\n",
       " ['early',\n",
       "  'approaches',\n",
       "  'relied',\n",
       "  'ngram',\n",
       "  'models',\n",
       "  'limitations',\n",
       "  'like',\n",
       "  'short',\n",
       "  'context',\n",
       "  'data',\n",
       "  'sparsity'],\n",
       " ['recurrent',\n",
       "  'neural',\n",
       "  'networks',\n",
       "  'rnns',\n",
       "  'long',\n",
       "  'shortterm',\n",
       "  'memory',\n",
       "  'lstm',\n",
       "  'networks',\n",
       "  'improved',\n",
       "  'sequence',\n",
       "  'modeling',\n",
       "  'learning',\n",
       "  'longer',\n",
       "  'dependencies'],\n",
       " ['transformerbased',\n",
       "  'models',\n",
       "  'like',\n",
       "  'bert',\n",
       "  'gpt',\n",
       "  'revolutionized',\n",
       "  'predictions',\n",
       "  'selfattention',\n",
       "  'mechanisms',\n",
       "  'fullcontext',\n",
       "  'awareness'],\n",
       " ['models',\n",
       "  'trained',\n",
       "  'massive',\n",
       "  'corpora',\n",
       "  'learn',\n",
       "  'grammar',\n",
       "  'semantics',\n",
       "  'contextual',\n",
       "  'patterns'],\n",
       " ['next',\n",
       "  'word',\n",
       "  'prediction',\n",
       "  'widely',\n",
       "  'used',\n",
       "  'smart',\n",
       "  'keyboards',\n",
       "  'chatbots',\n",
       "  'virtual',\n",
       "  'assistants',\n",
       "  'email',\n",
       "  'composition',\n",
       "  'search',\n",
       "  'engines'],\n",
       " ['enhances',\n",
       "  'user',\n",
       "  'experience',\n",
       "  'making',\n",
       "  'communication',\n",
       "  'faster',\n",
       "  'intuitive'],\n",
       " ['advancements',\n",
       "  'deep',\n",
       "  'learning',\n",
       "  'continue',\n",
       "  'improve',\n",
       "  'accuracy',\n",
       "  'contextual',\n",
       "  'relevance',\n",
       "  'predictions'],\n",
       " ['future',\n",
       "  'includes',\n",
       "  'personalized',\n",
       "  'multimodal',\n",
       "  'systems',\n",
       "  'combining',\n",
       "  'text',\n",
       "  'voice',\n",
       "  'visual',\n",
       "  'inputs']]"
      ]
     },
     "execution_count": 44,
     "metadata": {},
     "output_type": "execute_result"
    }
   ],
   "source": [
    "processed_corpus"
   ]
  },
  {
   "cell_type": "code",
   "execution_count": 45,
   "id": "125ce0c4",
   "metadata": {},
   "outputs": [],
   "source": [
    "#for sentence in corpus:\n",
    "#    processed_corpus = word_preprocessing(sentence)\n",
    "#    print(processed_corpus)"
   ]
  },
  {
   "cell_type": "code",
   "execution_count": 46,
   "id": "5bf01d7c",
   "metadata": {},
   "outputs": [],
   "source": [
    "# Create the Word2Vec model\n",
    "word2vec_cbow = Word2Vec(sentences= processed_corpus, vector_size=100, window=5, min_count=1, sg=0)\n",
    "word2vec_skipgram = Word2Vec(sentences= processed_corpus, vector_size=100, window=5, min_count=1, sg=1)"
   ]
  },
  {
   "cell_type": "code",
   "execution_count": 47,
   "id": "0a612799",
   "metadata": {},
   "outputs": [
    {
     "data": {
      "text/plain": [
       "<gensim.models.word2vec.Word2Vec at 0x28ec3084eb0>"
      ]
     },
     "execution_count": 47,
     "metadata": {},
     "output_type": "execute_result"
    }
   ],
   "source": [
    "word2vec_cbow"
   ]
  },
  {
   "cell_type": "code",
   "execution_count": 48,
   "id": "ad35d6a5",
   "metadata": {},
   "outputs": [
    {
     "data": {
      "text/plain": [
       "<gensim.models.word2vec.Word2Vec at 0x28ec29a9cf0>"
      ]
     },
     "execution_count": 48,
     "metadata": {},
     "output_type": "execute_result"
    }
   ],
   "source": [
    "word2vec_skipgram"
   ]
  },
  {
   "cell_type": "code",
   "execution_count": 49,
   "id": "30af569d",
   "metadata": {},
   "outputs": [
    {
     "name": "stdout",
     "output_type": "stream",
     "text": [
      "['models', 'word', 'text', 'predictions', 'learning', 'contextual', 'networks', 'like', 'language', 'next', 'sequence', 'prediction', 'memory', 'neural', 'likely', 'rnns', 'forecasting', 'long', 'shortterm', 'lstm', 'sparsity', 'improved', 'modeling', 'task', 'longer', 'dependencies', 'transformerbased', 'recurrent', 'data', 'uses', 'context', 'natural', 'given', 'processing', 'nlp', 'understand', 'process', 'human', 'early', 'approaches', 'relied', 'ngram', 'gpt', 'limitations', 'follows', 'short', 'bert', 'inputs', 'visual', 'selfattention', 'user', 'experience', 'making', 'communication', 'faster', 'intuitive', 'advancements', 'deep', 'continue', 'improve', 'accuracy', 'relevance', 'future', 'includes', 'personalized', 'multimodal', 'systems', 'combining', 'voice', 'enhances', 'engines', 'search', 'semantics', 'mechanisms', 'fullcontext', 'awareness', 'trained', 'massive', 'corpora', 'learn', 'grammar', 'patterns', 'composition', 'widely', 'used', 'smart', 'keyboards', 'chatbots', 'virtual', 'assistants', 'email', 'revolutionized']\n"
     ]
    }
   ],
   "source": [
    "print(list(word2vec_skipgram.wv.key_to_index.keys()))"
   ]
  },
  {
   "cell_type": "code",
   "execution_count": 51,
   "id": "5129eb99",
   "metadata": {},
   "outputs": [
    {
     "data": {
      "text/plain": [
       "array([ 9.7771548e-03,  8.1920978e-03,  1.2932499e-03,  5.0866310e-03,\n",
       "        1.4261523e-03, -6.4756465e-03, -1.3975883e-03,  6.4672506e-03,\n",
       "       -4.6224506e-03, -4.0078931e-03,  4.9083848e-03,  2.6757296e-03,\n",
       "       -1.8605815e-03, -2.8828091e-03,  6.0146297e-03, -5.6958497e-03,\n",
       "       -3.2283613e-03, -6.4946041e-03, -4.2356323e-03, -8.6216619e-03,\n",
       "       -4.4776723e-03, -8.4802760e-03,  1.4086885e-03, -8.6261174e-03,\n",
       "       -9.9218022e-03, -8.1728008e-03, -6.7809541e-03,  6.6766958e-03,\n",
       "        3.7831124e-03,  3.6162193e-04, -2.9553866e-03, -7.4344762e-03,\n",
       "        5.4160220e-04,  4.7884820e-04,  1.6773307e-04,  8.6756627e-04,\n",
       "        8.0990943e-04, -7.4054733e-05, -8.0063557e-03, -5.8959164e-03,\n",
       "       -8.3773984e-03, -1.3194856e-03,  1.8286261e-03,  7.4184639e-03,\n",
       "       -1.9478365e-03, -2.3310436e-03,  9.4771003e-03,  6.0437167e-05,\n",
       "       -2.3975722e-03,  8.6010806e-03,  2.6765626e-03, -5.3587607e-03,\n",
       "        6.5970132e-03,  4.5002708e-03, -7.0736348e-03, -3.3016107e-04,\n",
       "        8.3575124e-04,  5.7568476e-03, -1.7259137e-03, -2.8175029e-03,\n",
       "        1.7566732e-03,  8.3628099e-04,  1.2141549e-03, -2.6228714e-03,\n",
       "       -5.9935008e-03,  7.3423395e-03,  7.5774756e-03,  8.3087105e-03,\n",
       "       -8.6189238e-03,  2.6506060e-03, -3.5725024e-03,  9.6394569e-03,\n",
       "        2.9173992e-03,  4.6422877e-03,  2.4033503e-03,  6.6109621e-03,\n",
       "       -5.7571204e-03,  7.9036504e-03, -2.4200254e-03, -4.5694541e-03,\n",
       "       -2.0629666e-03,  9.7229006e-03, -6.8752943e-03, -2.1902758e-03,\n",
       "        7.0024091e-03, -5.8399870e-05, -6.2726513e-03, -6.3816006e-03,\n",
       "        8.9427633e-03,  6.4214901e-03,  4.7986363e-03, -3.2511535e-03,\n",
       "       -9.2665581e-03,  3.7937984e-03,  7.1772016e-03, -5.6269900e-03,\n",
       "       -7.8660408e-03, -2.9692766e-03, -4.9360460e-03, -2.3083158e-03],\n",
       "      dtype=float32)"
      ]
     },
     "execution_count": 51,
     "metadata": {},
     "output_type": "execute_result"
    }
   ],
   "source": [
    "word2vec_skipgram.wv[\"prediction\"]"
   ]
  },
  {
   "cell_type": "code",
   "execution_count": 52,
   "id": "fab89878",
   "metadata": {},
   "outputs": [
    {
     "data": {
      "text/plain": [
       "100"
      ]
     },
     "execution_count": 52,
     "metadata": {},
     "output_type": "execute_result"
    }
   ],
   "source": [
    "len(word2vec_skipgram.wv[\"prediction\"])"
   ]
  },
  {
   "cell_type": "code",
   "execution_count": 53,
   "id": "31420377",
   "metadata": {},
   "outputs": [
    {
     "data": {
      "text/plain": [
       "[('voice', 0.31560254096984863),\n",
       " ('experience', 0.31287503242492676),\n",
       " ('virtual', 0.18809594213962555),\n",
       " ('semantics', 0.1830679029226303),\n",
       " ('context', 0.1829196661710739)]"
      ]
     },
     "execution_count": 53,
     "metadata": {},
     "output_type": "execute_result"
    }
   ],
   "source": [
    "word2vec_skipgram.wv.most_similar(\"prediction\", topn=5)"
   ]
  },
  {
   "cell_type": "code",
   "execution_count": 54,
   "id": "b8772a3c",
   "metadata": {},
   "outputs": [
    {
     "data": {
      "text/plain": [
       "[('voice', 0.31560254096984863),\n",
       " ('experience', 0.31287503242492676),\n",
       " ('virtual', 0.18809594213962555),\n",
       " ('semantics', 0.1830679029226303),\n",
       " ('context', 0.1829196661710739)]"
      ]
     },
     "execution_count": 54,
     "metadata": {},
     "output_type": "execute_result"
    }
   ],
   "source": [
    "word2vec_skipgram.wv.most_similar(\"prediction\", topn=5)"
   ]
  },
  {
   "cell_type": "code",
   "execution_count": 55,
   "id": "a0b1f823",
   "metadata": {},
   "outputs": [
    {
     "data": {
      "text/plain": [
       "-0.04470473"
      ]
     },
     "execution_count": 55,
     "metadata": {},
     "output_type": "execute_result"
    }
   ],
   "source": [
    "word2vec_skipgram.wv.similarity('predictions', 'learning')"
   ]
  },
  {
   "cell_type": "code",
   "execution_count": 56,
   "id": "9dda007a",
   "metadata": {},
   "outputs": [
    {
     "data": {
      "text/plain": [
       "['models',\n",
       " 'word',\n",
       " 'text',\n",
       " 'predictions',\n",
       " 'learning',\n",
       " 'contextual',\n",
       " 'networks',\n",
       " 'like',\n",
       " 'language',\n",
       " 'next',\n",
       " 'sequence',\n",
       " 'prediction',\n",
       " 'memory',\n",
       " 'neural',\n",
       " 'likely',\n",
       " 'rnns',\n",
       " 'forecasting',\n",
       " 'long',\n",
       " 'shortterm',\n",
       " 'lstm',\n",
       " 'sparsity',\n",
       " 'improved',\n",
       " 'modeling',\n",
       " 'task',\n",
       " 'longer',\n",
       " 'dependencies',\n",
       " 'transformerbased',\n",
       " 'recurrent',\n",
       " 'data',\n",
       " 'uses',\n",
       " 'context',\n",
       " 'natural',\n",
       " 'given',\n",
       " 'processing',\n",
       " 'nlp',\n",
       " 'understand',\n",
       " 'process',\n",
       " 'human',\n",
       " 'early',\n",
       " 'approaches',\n",
       " 'relied',\n",
       " 'ngram',\n",
       " 'gpt',\n",
       " 'limitations',\n",
       " 'follows',\n",
       " 'short',\n",
       " 'bert',\n",
       " 'inputs',\n",
       " 'visual',\n",
       " 'selfattention',\n",
       " 'user',\n",
       " 'experience',\n",
       " 'making',\n",
       " 'communication',\n",
       " 'faster',\n",
       " 'intuitive',\n",
       " 'advancements',\n",
       " 'deep',\n",
       " 'continue',\n",
       " 'improve',\n",
       " 'accuracy',\n",
       " 'relevance',\n",
       " 'future',\n",
       " 'includes',\n",
       " 'personalized',\n",
       " 'multimodal',\n",
       " 'systems',\n",
       " 'combining',\n",
       " 'voice',\n",
       " 'enhances',\n",
       " 'engines',\n",
       " 'search',\n",
       " 'semantics',\n",
       " 'mechanisms',\n",
       " 'fullcontext',\n",
       " 'awareness',\n",
       " 'trained',\n",
       " 'massive',\n",
       " 'corpora',\n",
       " 'learn',\n",
       " 'grammar',\n",
       " 'patterns',\n",
       " 'composition',\n",
       " 'widely',\n",
       " 'used',\n",
       " 'smart',\n",
       " 'keyboards',\n",
       " 'chatbots',\n",
       " 'virtual',\n",
       " 'assistants',\n",
       " 'email',\n",
       " 'revolutionized']"
      ]
     },
     "execution_count": 56,
     "metadata": {},
     "output_type": "execute_result"
    }
   ],
   "source": [
    "word2vec_cbow.wv.index_to_key"
   ]
  },
  {
   "cell_type": "code",
   "execution_count": 57,
   "id": "a8ac3d07",
   "metadata": {},
   "outputs": [
    {
     "data": {
      "text/plain": [
       "[('voice', 0.31560254096984863),\n",
       " ('experience', 0.31287503242492676),\n",
       " ('virtual', 0.18809594213962555),\n",
       " ('semantics', 0.1830679029226303),\n",
       " ('context', 0.1829196661710739)]"
      ]
     },
     "execution_count": 57,
     "metadata": {},
     "output_type": "execute_result"
    }
   ],
   "source": [
    "word2vec_skipgram.wv.most_similar(\"prediction\", topn=5)"
   ]
  },
  {
   "cell_type": "code",
   "execution_count": 58,
   "id": "87974ca4",
   "metadata": {},
   "outputs": [
    {
     "data": {
      "text/plain": [
       "[('voice', 0.3149513304233551),\n",
       " ('experience', 0.31294986605644226),\n",
       " ('virtual', 0.18653692305088043),\n",
       " ('semantics', 0.1825449913740158),\n",
       " ('context', 0.18217381834983826)]"
      ]
     },
     "execution_count": 58,
     "metadata": {},
     "output_type": "execute_result"
    }
   ],
   "source": [
    "word2vec_cbow.wv.most_similar(\"prediction\", topn=5)"
   ]
  },
  {
   "cell_type": "code",
   "execution_count": 70,
   "id": "5903d0da",
   "metadata": {},
   "outputs": [
    {
     "data": {
      "text/plain": [
       "['Next word prediction is the task of forecasting the most likely word that follows a given sequence of text.',\n",
       " 'It uses Natural Language Processing (NLP) to understand and process human language.',\n",
       " 'Early approaches relied on n-gram models, which had limitations like short context and data sparsity.',\n",
       " 'Recurrent Neural Networks (RNNs) and Long Short-Term Memory (LSTM) networks improved sequence modeling by learning longer dependencies.',\n",
       " 'Transformer-based models like BERT and GPT revolutionized predictions with self-attention mechanisms and full-context awareness.',\n",
       " 'These models are trained on massive corpora to learn grammar, semantics, and contextual patterns.',\n",
       " 'Next word prediction is widely used in smart keyboards, chatbots, virtual assistants, email composition, and search engines.',\n",
       " 'It enhances user experience by making communication faster and more intuitive.',\n",
       " 'Advancements in deep learning continue to improve accuracy and contextual relevance in predictions.',\n",
       " 'The future includes more personalized and multimodal systems combining text, voice, and visual inputs.']"
      ]
     },
     "execution_count": 70,
     "metadata": {},
     "output_type": "execute_result"
    }
   ],
   "source": [
    "corpus"
   ]
  },
  {
   "cell_type": "code",
   "execution_count": 71,
   "id": "b9f7d49b",
   "metadata": {},
   "outputs": [],
   "source": [
    "from sklearn.manifold import TSNE\n",
    "import matplotlib.pyplot as plt\n",
    "import numpy as np"
   ]
  },
  {
   "cell_type": "code",
   "execution_count": 72,
   "id": "01e6a394",
   "metadata": {},
   "outputs": [
    {
     "name": "stdout",
     "output_type": "stream",
     "text": [
      "['models', 'word', 'text', 'predictions', 'learning', 'contextual', 'networks', 'like', 'language', 'next', 'sequence', 'prediction', 'memory', 'neural', 'likely', 'rnns', 'forecasting', 'long', 'shortterm', 'lstm', 'sparsity', 'improved', 'modeling', 'task', 'longer', 'dependencies', 'transformerbased', 'recurrent', 'data', 'uses', 'context', 'natural', 'given', 'processing', 'nlp', 'understand', 'process', 'human', 'early', 'approaches', 'relied', 'ngram', 'gpt', 'limitations', 'follows', 'short', 'bert', 'inputs', 'visual', 'selfattention', 'user', 'experience', 'making', 'communication', 'faster', 'intuitive', 'advancements', 'deep', 'continue', 'improve', 'accuracy', 'relevance', 'future', 'includes', 'personalized', 'multimodal', 'systems', 'combining', 'voice', 'enhances', 'engines', 'search', 'semantics', 'mechanisms', 'fullcontext', 'awareness', 'trained', 'massive', 'corpora', 'learn', 'grammar', 'patterns', 'composition', 'widely', 'used', 'smart', 'keyboards', 'chatbots', 'virtual', 'assistants', 'email', 'revolutionized']\n"
     ]
    }
   ],
   "source": [
    "word_vectors = word2vec_cbow.wv\n",
    "vocab = list(word_vectors.index_to_key)\n",
    "print(vocab)"
   ]
  },
  {
   "cell_type": "code",
   "execution_count": 73,
   "id": "f60aa8b1",
   "metadata": {},
   "outputs": [
    {
     "data": {
      "text/plain": [
       "92"
      ]
     },
     "execution_count": 73,
     "metadata": {},
     "output_type": "execute_result"
    }
   ],
   "source": [
    "len(vocab)"
   ]
  },
  {
   "cell_type": "code",
   "execution_count": 74,
   "id": "76df80b6",
   "metadata": {},
   "outputs": [],
   "source": [
    "X = np.array([word_vectors[i] for i in vocab])"
   ]
  },
  {
   "cell_type": "code",
   "execution_count": 75,
   "id": "5b8efde7",
   "metadata": {},
   "outputs": [],
   "source": [
    "tsne = TSNE(n_components=2)"
   ]
  },
  {
   "cell_type": "code",
   "execution_count": 77,
   "id": "52908277",
   "metadata": {},
   "outputs": [],
   "source": [
    "X_new = tsne.fit_transform(X)"
   ]
  },
  {
   "cell_type": "code",
   "execution_count": 78,
   "id": "7c1d8a48",
   "metadata": {},
   "outputs": [
    {
     "data": {
      "text/plain": [
       "<matplotlib.collections.PathCollection at 0x28ec3e7e440>"
      ]
     },
     "execution_count": 78,
     "metadata": {},
     "output_type": "execute_result"
    },
    {
     "data": {
      "image/png": "[encoded data removed]",
      "text/plain": [
       "<Figure size 1000x1000 with 1 Axes>"
      ]
     },
     "metadata": {},
     "output_type": "display_data"
    }
   ],
   "source": [
    "plt.figure(figsize=(10, 10))\n",
    "plt.scatter(X_new[:,0], X_new[:,1], marker='o', color='blue')"
   ]
  },
  {
   "cell_type": "code",
   "execution_count": 79,
   "id": "6afd66bc",
   "metadata": {},
   "outputs": [
    {
     "data": {
      "text/plain": [
       "['models',\n",
       " 'word',\n",
       " 'text',\n",
       " 'predictions',\n",
       " 'learning',\n",
       " 'contextual',\n",
       " 'networks',\n",
       " 'like',\n",
       " 'language',\n",
       " 'next',\n",
       " 'sequence',\n",
       " 'prediction',\n",
       " 'memory',\n",
       " 'neural',\n",
       " 'likely',\n",
       " 'rnns',\n",
       " 'forecasting',\n",
       " 'long',\n",
       " 'shortterm',\n",
       " 'lstm',\n",
       " 'sparsity',\n",
       " 'improved',\n",
       " 'modeling',\n",
       " 'task',\n",
       " 'longer',\n",
       " 'dependencies',\n",
       " 'transformerbased',\n",
       " 'recurrent',\n",
       " 'data',\n",
       " 'uses',\n",
       " 'context',\n",
       " 'natural',\n",
       " 'given',\n",
       " 'processing',\n",
       " 'nlp',\n",
       " 'understand',\n",
       " 'process',\n",
       " 'human',\n",
       " 'early',\n",
       " 'approaches',\n",
       " 'relied',\n",
       " 'ngram',\n",
       " 'gpt',\n",
       " 'limitations',\n",
       " 'follows',\n",
       " 'short',\n",
       " 'bert',\n",
       " 'inputs',\n",
       " 'visual',\n",
       " 'selfattention',\n",
       " 'user',\n",
       " 'experience',\n",
       " 'making',\n",
       " 'communication',\n",
       " 'faster',\n",
       " 'intuitive',\n",
       " 'advancements',\n",
       " 'deep',\n",
       " 'continue',\n",
       " 'improve',\n",
       " 'accuracy',\n",
       " 'relevance',\n",
       " 'future',\n",
       " 'includes',\n",
       " 'personalized',\n",
       " 'multimodal',\n",
       " 'systems',\n",
       " 'combining',\n",
       " 'voice',\n",
       " 'enhances',\n",
       " 'engines',\n",
       " 'search',\n",
       " 'semantics',\n",
       " 'mechanisms',\n",
       " 'fullcontext',\n",
       " 'awareness',\n",
       " 'trained',\n",
       " 'massive',\n",
       " 'corpora',\n",
       " 'learn',\n",
       " 'grammar',\n",
       " 'patterns',\n",
       " 'composition',\n",
       " 'widely',\n",
       " 'used',\n",
       " 'smart',\n",
       " 'keyboards',\n",
       " 'chatbots',\n",
       " 'virtual',\n",
       " 'assistants',\n",
       " 'email',\n",
       " 'revolutionized']"
      ]
     },
     "execution_count": 79,
     "metadata": {},
     "output_type": "execute_result"
    }
   ],
   "source": [
    "vocab"
   ]
  },
  {
   "cell_type": "code",
   "execution_count": 85,
   "id": "1b40b687",
   "metadata": {},
   "outputs": [
    {
     "data": {
      "text/plain": [
       "Text(0.5, 1.0, 'Word2Vec CBOW Word Embeddings Visualization')"
      ]
     },
     "execution_count": 85,
     "metadata": {},
     "output_type": "execute_result"
    },
    {
     "data": {
      "image/png": "[encoded data removed]",
      "text/plain": [
       "<Figure size 1500x1500 with 1 Axes>"
      ]
     },
     "metadata": {},
     "output_type": "display_data"
    }
   ],
   "source": [
    "plt.figure(figsize=(15, 15))\n",
    "plt.scatter(X_new[:,0], X_new[:,1], marker='o', color='blue')\n",
    "for i, word in enumerate(vocab[:len(X_new)]):\n",
    "    plt.annotate(word, xy=(X_new[i, 0], X_new[i, 1]), fontsize=9, ha='right', va='bottom')\n",
    "plt.title(\"Word2Vec CBOW Word Embeddings Visualization\")"
   ]
  },
  {
   "cell_type": "code",
   "execution_count": 86,
   "id": "4add4cfb",
   "metadata": {},
   "outputs": [
    {
     "name": "stdout",
     "output_type": "stream",
     "text": [
      "The End\n"
     ]
    }
   ],
   "source": [
    "print(\"The End\")"
   ]
  }
 ],
 "metadata": {
  "kernelspec": {
   "display_name": "Python 3",
   "language": "python",
   "name": "python3"
  },
  "language_info": {
   "codemirror_mode": {
    "name": "ipython",
    "version": 3
   },
   "file_extension": ".py",
   "mimetype": "text/x-python",
   "name": "python",
   "nbconvert_exporter": "python",
   "pygments_lexer": "ipython3",
   "version": "3.10.0"
  }
 },
 "nbformat": 4,
 "nbformat_minor": 5
}
