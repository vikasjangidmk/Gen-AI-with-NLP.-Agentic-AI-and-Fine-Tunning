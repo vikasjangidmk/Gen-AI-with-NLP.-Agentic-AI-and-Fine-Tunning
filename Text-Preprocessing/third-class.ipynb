{
 "cells": [
  {
   "cell_type": "code",
   "execution_count": 2,
   "id": "74ecee27",
   "metadata": {},
   "outputs": [],
   "source": [
    "import nltk\n",
    "import gensim\n",
    "import string\n",
    "import numpy as np\n",
    "import pandas as pd\n",
    "import matplotlib.pyplot as plt\n",
    "from gensim.models import Word2Vec\n",
    "from nltk.corpus import stopwords\n",
    "from nltk.tokenize import word_tokenize\n",
    "import re"
   ]
  },
  {
   "cell_type": "code",
   "execution_count": 3,
   "id": "25e8722a",
   "metadata": {},
   "outputs": [],
   "source": [
    "corpus = [\n",
    "    \"my name is vikas jangid\",\n",
    "    \"i am a data scientist\",\n",
    "    \"2921u091 babxjsbja@#$%^ ^&*()_+\",\n",
    "    \"nlp is a subfield of artificial intelligence\",\n",
    "    \"i am learning word2vec\",\n",
    "    \"word2vec is a technique used in natural language processing\",\n",
    "    \"it is used to create word embeddings,\",\n",
    "    \"my phone number is 1234567890\",\n",
    "    \"my email is vikasjangid@gmail.com\",\n",
    "    \"Hello, how are you?\",\n",
    "    \"I am fine, thank you!\",\n",
    "]"
   ]
  },
  {
   "cell_type": "code",
   "execution_count": null,
   "id": "f595f9e6",
   "metadata": {},
   "outputs": [],
   "source": []
  }
 ],
 "metadata": {
  "kernelspec": {
   "display_name": "Python 3",
   "language": "python",
   "name": "python3"
  },
  "language_info": {
   "codemirror_mode": {
    "name": "ipython",
    "version": 3
   },
   "file_extension": ".py",
   "mimetype": "text/x-python",
   "name": "python",
   "nbconvert_exporter": "python",
   "pygments_lexer": "ipython3",
   "version": "3.10.0"
  }
 },
 "nbformat": 4,
 "nbformat_minor": 5
}
