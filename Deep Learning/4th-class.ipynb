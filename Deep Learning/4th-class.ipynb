{
 "cells": [
  {
   "cell_type": "code",
   "execution_count": 8,
   "id": "2bee6d53",
   "metadata": {},
   "outputs": [],
   "source": [
    "input = [1,2,3,4,5,6,7,8,9,10]\n",
    "output = [2,4,6,8,10,12,14,16,18,20]"
   ]
  },
  {
   "cell_type": "code",
   "execution_count": 9,
   "id": "33e5cf93",
   "metadata": {},
   "outputs": [
    {
     "data": {
      "text/plain": [
       "<zip at 0x26b69d73c00>"
      ]
     },
     "execution_count": 9,
     "metadata": {},
     "output_type": "execute_result"
    }
   ],
   "source": [
    "zip(input, output)"
   ]
  },
  {
   "cell_type": "code",
   "execution_count": 10,
   "id": "97ce5bfd",
   "metadata": {},
   "outputs": [
    {
     "data": {
      "text/plain": [
       "[(1, 2),\n",
       " (2, 4),\n",
       " (3, 6),\n",
       " (4, 8),\n",
       " (5, 10),\n",
       " (6, 12),\n",
       " (7, 14),\n",
       " (8, 16),\n",
       " (9, 18),\n",
       " (10, 20)]"
      ]
     },
     "execution_count": 10,
     "metadata": {},
     "output_type": "execute_result"
    }
   ],
   "source": [
    "list(zip(input, output))"
   ]
  },
  {
   "cell_type": "code",
   "execution_count": 11,
   "id": "d5f9ee3f",
   "metadata": {},
   "outputs": [],
   "source": [
    "w = 0.0\n",
    "b = 0.0\n",
    "lr = 0.01"
   ]
  },
  {
   "cell_type": "code",
   "execution_count": 12,
   "id": "d10ca559",
   "metadata": {},
   "outputs": [
    {
     "name": "stdout",
     "output_type": "stream",
     "text": [
      "Epoch 0: w=1.9516462088921738, b=0.5130697615736056, loss=112.0504311224823\n",
      "Epoch 10: w=1.9660585633412635, b=0.3601439393889587, loss=0.2601779853418481\n",
      "Epoch 20: w=1.9761751644273338, b=0.252799261996637, loss=0.12819465813082156\n",
      "Epoch 30: w=1.9832764064829742, b=0.17744979125422322, loss=0.0631639542895455\n",
      "Epoch 40: w=1.9882610488844863, b=0.12455902033680137, loss=0.031122085581915322\n",
      "Epoch 50: w=1.9917599663521988, b=0.08743289827282033, loss=0.015334445442221685\n",
      "Epoch 60: w=1.99421599478107, b=0.06137260617267985, loss=0.00755557388342662\n",
      "Epoch 70: w=1.9959399781842482, b=0.04307985738587552, loss=0.003722775428887338\n",
      "Epoch 80: w=1.9971501102574323, b=0.03023945418197858, loss=0.001834282492337048\n",
      "Epoch 90: w=1.9979995497774719, b=0.02122626778991627, loss=0.0009037859860107577\n",
      "Prediction for input 7: 14.005252841848872\n"
     ]
    }
   ],
   "source": [
    "for epoch in range(100):\n",
    "    total_loss = 0.0\n",
    "    for x,y in zip(input,output):\n",
    "        y_pred = w*x + b\n",
    "        error = y_pred - y\n",
    "        loss = error**2\n",
    "        total_loss = total_loss + loss\n",
    "        \n",
    "        dw = 2*x*error\n",
    "        db = 2*error\n",
    "        w = w - lr * dw\n",
    "        b = b - lr * db\n",
    "        \n",
    "    if epoch % 10 == 0:\n",
    "        print(f\"Epoch {epoch}: w={w}, b={b}, loss={total_loss}\")\n",
    "        \n",
    "test_data = 7\n",
    "prediction = w * test_data + b\n",
    "print(f\"Prediction for input {test_data}: {prediction}\")"
   ]
  },
  {
   "cell_type": "markdown",
   "id": "e46cb4d3",
   "metadata": {},
   "source": [
    "## **Add some hidden layer**"
   ]
  },
  {
   "cell_type": "code",
   "execution_count": 13,
   "id": "c0b73e7e",
   "metadata": {},
   "outputs": [],
   "source": [
    "input = [1,2,3,4,5]\n",
    "output = [2,4,6,8,10]"
   ]
  },
  {
   "cell_type": "code",
   "execution_count": 15,
   "id": "600b52e8",
   "metadata": {},
   "outputs": [],
   "source": [
    "w1, b1 = 0.1 , 0.0\n",
    "w2, b2 = -0.1 , 0.0\n",
    "w3, w4 = 0.1 , 0.1\n",
    "b3 = 0.0\n",
    "lr = 0.01"
   ]
  },
  {
   "cell_type": "code",
   "execution_count": 16,
   "id": "39724653",
   "metadata": {},
   "outputs": [],
   "source": [
    "def relu(x):\n",
    "    return max(0, x)\n"
   ]
  },
  {
   "cell_type": "code",
   "execution_count": 17,
   "id": "61c60831",
   "metadata": {},
   "outputs": [],
   "source": [
    "def relu_derivative(x):\n",
    "    return 1 if x > 0 else 0"
   ]
  },
  {
   "cell_type": "code",
   "execution_count": 18,
   "id": "f20b3f0f",
   "metadata": {},
   "outputs": [
    {
     "name": "stdout",
     "output_type": "stream",
     "text": [
      "Epoch 0: w1=0.5107994227896907, b1=0.10092026689020629, w2=-0.1, b2=0.0, w3=0.5206538410058323, w4=0.1, b3=0.5732711358807556, loss=197.58784675778605\n",
      "Epoch 10: w1=1.3639832636228826, b1=0.0802643345086223, w2=-0.1, b2=0.0, w3=1.3641420243057523, w4=0.1, b3=0.7135732943741138, loss=0.7822743866736906\n",
      "Epoch 20: w1=1.3849639842957997, b1=-0.07853367323684024, w2=-0.1, b2=0.0, w3=1.3838005416334025, w4=0.1, b3=0.5982525265162018, loss=0.2777331306080438\n",
      "Epoch 30: w1=1.393344178782535, b1=-0.1744301512438402, w2=-0.1, b2=0.0, w3=1.4003033304217605, w4=0.1, b3=0.5294379188801411, loss=0.09441733364350127\n",
      "Epoch 40: w1=1.3968307271511995, b1=-0.2307808108603168, w2=-0.1, b2=0.0, w3=1.4116592294818278, w4=0.1, b3=0.4893807252666194, loss=0.03110053083599192\n",
      "Epoch 50: w1=1.398373237431776, b1=-0.26326483302585585, w2=-0.1, b2=0.0, w3=1.418773162455481, w4=0.1, b3=0.46643404005837213, loss=0.010038059173204952\n",
      "Epoch 60: w1=1.3991024118209225, b1=-0.2817652745561809, w2=-0.1, b2=0.0, w3=1.4230125248788674, w4=0.1, b3=0.45341581857201024, loss=0.00320027527189278\n",
      "Epoch 70: w1=1.3994674137474652, b1=-0.29222570947068305, w2=-0.1, b2=0.0, w3=1.4254702974966837, w4=0.1, b3=0.44607189664532393, loss=0.0010129806992875082\n",
      "Epoch 80: w1=1.3996580214291368, b1=-0.29811538608869315, w2=-0.1, b2=0.0, w3=1.426873533139666, w4=0.1, b3=0.4419423874670594, loss=0.0003193181207800499\n",
      "Epoch 90: w1=1.3997603978022717, b1=-0.3014235719719853, w2=-0.1, b2=0.0, w3=1.4276678666983884, w4=0.1, b3=0.43962460977681334, loss=0.00010042211687133479\n"
     ]
    },
    {
     "data": {
      "text/plain": [
       "17.99692772369434"
      ]
     },
     "execution_count": 18,
     "metadata": {},
     "output_type": "execute_result"
    }
   ],
   "source": [
    "for epoch in range(100):\n",
    "    total_loss = 0\n",
    "    for x,y in zip(input,output):\n",
    "        z1 = w1*x + b1\n",
    "        h1 = relu(z1)\n",
    "        \n",
    "        z2 = w2*x + b2\n",
    "        h2 = relu(z2)\n",
    "        \n",
    "        y_pred = w3*h1 + w4*h2 + b3\n",
    "        \n",
    "        error = y_pred - y\n",
    "        loss = error**2\n",
    "        total_loss += loss\n",
    "        \n",
    "        dl_dy = 2*error\n",
    "        dw3 = dl_dy * h1\n",
    "        dw4 = dl_dy * h2\n",
    "        db3 = dl_dy\n",
    "        \n",
    "        dh1 = dl_dy * w3\n",
    "        dh2 = dl_dy * w4\n",
    "        \n",
    "        dz1 = dh1 * relu_derivative(z1)\n",
    "        dz2 = dh2 * relu_derivative(z2)\n",
    "        \n",
    "        dw1 = dz1 * x\n",
    "        db1 = dz1\n",
    "        \n",
    "        dw2 = dz2 * x\n",
    "        db2 = dz2\n",
    "        \n",
    "        w1 = w1 - lr * dw1\n",
    "        w2 = w2 - lr * dw2\n",
    "        w3 = w3 - lr * dw3\n",
    "        w4 = w4 - lr * dw4\n",
    "        \n",
    "        b1 = b1 - lr * db1\n",
    "        b2 = b2 - lr * db2\n",
    "        b3 = b3 - lr * db3\n",
    "        \n",
    "    if epoch % 10 == 0:\n",
    "        print(f\"Epoch {epoch}: w1={w1}, b1={b1}, w2={w2}, b2={b2}, w3={w3}, w4={w4}, b3={b3}, loss={total_loss}\")\n",
    "        \n",
    "def prediction(x):\n",
    "    z1 = w1*x + b1\n",
    "    h1 = relu(z1)\n",
    "    \n",
    "    z2 = w2*x + b2\n",
    "    h2 = relu(z2)\n",
    "    \n",
    "    y_output = w3*h1 + w4*h2 + b3\n",
    "    return y_output\n",
    "\n",
    "prediction(9)"
   ]
  },
  {
   "cell_type": "code",
   "execution_count": null,
   "id": "01f3f280",
   "metadata": {},
   "outputs": [],
   "source": [
    "import tensortlow as tf\n",
    "import numpy as np\n",
    "import matplotlib.pyplot as plt"
   ]
  }
 ],
 "metadata": {
  "kernelspec": {
   "display_name": "Python 3",
   "language": "python",
   "name": "python3"
  },
  "language_info": {
   "codemirror_mode": {
    "name": "ipython",
    "version": 3
   },
   "file_extension": ".py",
   "mimetype": "text/x-python",
   "name": "python",
   "nbconvert_exporter": "python",
   "pygments_lexer": "ipython3",
   "version": "3.10.0"
  }
 },
 "nbformat": 4,
 "nbformat_minor": 5
}
